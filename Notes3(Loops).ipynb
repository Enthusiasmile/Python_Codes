{
  "nbformat": 4,
  "nbformat_minor": 0,
  "metadata": {
    "colab": {
      "provenance": [],
      "authorship_tag": "ABX9TyO9q5xRHzViKcMHJqyANJRx",
      "include_colab_link": true
    },
    "kernelspec": {
      "name": "python3",
      "display_name": "Python 3"
    },
    "language_info": {
      "name": "python"
    }
  },
  "cells": [
    {
      "cell_type": "markdown",
      "metadata": {
        "id": "view-in-github",
        "colab_type": "text"
      },
      "source": [
        "<a href=\"https://colab.research.google.com/github/Enthusiasmile/Python_Codes/blob/main/Notes3(Loops).ipynb\" target=\"_parent\"><img src=\"https://colab.research.google.com/assets/colab-badge.svg\" alt=\"Open In Colab\"/></a>"
      ]
    },
    {
      "cell_type": "markdown",
      "source": [
        "LOOPS\n",
        "+ while loop\n",
        "+ for loop"
      ],
      "metadata": {
        "id": "NGlnYJaJp-_G"
      }
    },
    {
      "cell_type": "markdown",
      "source": [
        "* while loop"
      ],
      "metadata": {
        "id": "FUqHDUjTrYPE"
      }
    },
    {
      "cell_type": "code",
      "source": [
        "a=10\n",
        "while a<=100:\n",
        "  print(a)\n",
        "  a=a+10"
      ],
      "metadata": {
        "colab": {
          "base_uri": "https://localhost:8080/"
        },
        "id": "Jd5x_d6suhn1",
        "outputId": "db439ed4-49fa-4f18-d83e-0c505eae73b5"
      },
      "execution_count": null,
      "outputs": [
        {
          "output_type": "stream",
          "name": "stdout",
          "text": [
            "10\n",
            "20\n",
            "30\n",
            "40\n",
            "50\n",
            "60\n",
            "70\n",
            "80\n",
            "90\n",
            "100\n"
          ]
        }
      ]
    },
    {
      "cell_type": "code",
      "source": [
        "a=5\n",
        "b=2\n",
        "while a<10:\n",
        "  print(a+b)\n",
        "  a=a+b"
      ],
      "metadata": {
        "colab": {
          "base_uri": "https://localhost:8080/"
        },
        "id": "0ZeTu4M9v0ru",
        "outputId": "249734aa-a465-4ed2-c215-a2deabca5001"
      },
      "execution_count": null,
      "outputs": [
        {
          "output_type": "stream",
          "name": "stdout",
          "text": [
            "7\n",
            "9\n",
            "11\n"
          ]
        }
      ]
    },
    {
      "cell_type": "markdown",
      "source": [
        "+ for loop"
      ],
      "metadata": {
        "id": "9s8YsPv9x2gi"
      }
    },
    {
      "cell_type": "code",
      "source": [
        "#print 1st 10 numbers\n",
        "for i in range(1,11): #1=start(inclusive) 11=stop(exclusive) \n",
        "  print(i)"
      ],
      "metadata": {
        "colab": {
          "base_uri": "https://localhost:8080/"
        },
        "id": "H6QFIBj6x1S6",
        "outputId": "f446e41a-e610-48cb-93a0-234b8fb0f798"
      },
      "execution_count": null,
      "outputs": [
        {
          "output_type": "stream",
          "name": "stdout",
          "text": [
            "1\n",
            "2\n",
            "3\n",
            "4\n",
            "5\n",
            "6\n",
            "7\n",
            "8\n",
            "9\n",
            "10\n"
          ]
        }
      ]
    },
    {
      "cell_type": "code",
      "source": [
        "#multiple of 3\n",
        "for i in range(3,31,3): #3=stepsize\n",
        "\n",
        "  print(i)"
      ],
      "metadata": {
        "colab": {
          "base_uri": "https://localhost:8080/"
        },
        "id": "8lU7jbL_y9D8",
        "outputId": "ce6d6632-da0f-471d-8c4f-ee88c1e57e3e"
      },
      "execution_count": null,
      "outputs": [
        {
          "output_type": "stream",
          "name": "stdout",
          "text": [
            "3\n",
            "6\n",
            "9\n",
            "12\n",
            "15\n",
            "18\n",
            "21\n",
            "24\n",
            "27\n",
            "30\n"
          ]
        }
      ]
    },
    {
      "cell_type": "markdown",
      "source": [
        "Take a list of your choice and display the elements one by one"
      ],
      "metadata": {
        "id": "kWMEWVo4zg5N"
      }
    },
    {
      "cell_type": "code",
      "source": [
        "l=['tushar','india',9632,'data','mathematics']\n",
        "for t in l: #in\n",
        "  print(t)"
      ],
      "metadata": {
        "colab": {
          "base_uri": "https://localhost:8080/"
        },
        "id": "0g9zjUE5ziCD",
        "outputId": "8dc0012a-ed36-454c-e2f2-f6225622aab5"
      },
      "execution_count": null,
      "outputs": [
        {
          "output_type": "stream",
          "name": "stdout",
          "text": [
            "tushar\n",
            "india\n",
            "9632\n",
            "data\n",
            "mathematics\n"
          ]
        }
      ]
    },
    {
      "cell_type": "markdown",
      "source": [
        "Take a list of numbers and square all the elements given in the list"
      ],
      "metadata": {
        "id": "lU9LDqym0XXj"
      }
    },
    {
      "cell_type": "code",
      "source": [
        "l1=[4,2,5,48,8,9,41]\n",
        "for i in l1:\n",
        "  print(i*i)"
      ],
      "metadata": {
        "colab": {
          "base_uri": "https://localhost:8080/"
        },
        "id": "0TUg_sjg0YUN",
        "outputId": "e812a350-582a-486c-ddbc-64f0b70548d2"
      },
      "execution_count": null,
      "outputs": [
        {
          "output_type": "stream",
          "name": "stdout",
          "text": [
            "16\n",
            "4\n",
            "25\n",
            "2304\n",
            "64\n",
            "81\n",
            "1681\n"
          ]
        }
      ]
    },
    {
      "cell_type": "markdown",
      "source": [
        "Take a list of numbers and append the squares in a separate list"
      ],
      "metadata": {
        "id": "NNQLMm8U0784"
      }
    },
    {
      "cell_type": "code",
      "source": [
        "l2=[5,3,6,9,4,12,15,20,25]\n",
        "new=[]\n",
        "for i in l2:\n",
        "  square=i*i\n",
        "  new.append(square)\n",
        "\n",
        "print(new)"
      ],
      "metadata": {
        "colab": {
          "base_uri": "https://localhost:8080/"
        },
        "id": "Q3CMlrBA07fm",
        "outputId": "2e593da8-2f83-4e9a-d1ea-54aaf65dbeac"
      },
      "execution_count": null,
      "outputs": [
        {
          "output_type": "stream",
          "name": "stdout",
          "text": [
            "[25, 9, 36, 81, 16, 144, 225, 400, 625]\n"
          ]
        }
      ]
    },
    {
      "cell_type": "markdown",
      "source": [
        "Take a list of numbers and display all the even numbers from the list"
      ],
      "metadata": {
        "id": "EFBMN2Vv4lC9"
      }
    },
    {
      "cell_type": "code",
      "source": [
        "numbers=[1,5,8,74,25,214,23,6,4,8]\n",
        "for i in numbers:\n",
        "  if i%2==0:\n",
        "    print(i)"
      ],
      "metadata": {
        "colab": {
          "base_uri": "https://localhost:8080/"
        },
        "id": "vOCqTSmc4gzR",
        "outputId": "406c30d2-a83b-4ff6-8e3f-15e347f47d16"
      },
      "execution_count": null,
      "outputs": [
        {
          "output_type": "stream",
          "name": "stdout",
          "text": [
            "8\n",
            "74\n",
            "214\n",
            "6\n",
            "4\n",
            "8\n"
          ]
        }
      ]
    },
    {
      "cell_type": "markdown",
      "source": [
        "Take a list of numbers and display the count of even numbers"
      ],
      "metadata": {
        "id": "eBrJJhmu7PFh"
      }
    },
    {
      "cell_type": "code",
      "source": [
        "list1=[4,85,6,9,44,56,78,63,66]\n",
        "count=0 #counter\n",
        "for i in list1:\n",
        "  if i%2==0:\n",
        "    count=count+1 #if number is even,count will increase by 1\n",
        "print(count)    "
      ],
      "metadata": {
        "colab": {
          "base_uri": "https://localhost:8080/"
        },
        "id": "nar4PpZ_7QNW",
        "outputId": "afa16160-025f-4fbe-de93-719766d7042e"
      },
      "execution_count": null,
      "outputs": [
        {
          "output_type": "stream",
          "name": "stdout",
          "text": [
            "6\n"
          ]
        }
      ]
    },
    {
      "cell_type": "markdown",
      "source": [
        "Take a list of numbers and display the count of both even and odd numbers"
      ],
      "metadata": {
        "id": "MXHtBHGxEXfR"
      }
    },
    {
      "cell_type": "code",
      "source": [
        "list1=[4,85,6,9,44,56,78,63,66]\n",
        "even=0\n",
        "odd=0\n",
        "for i in list1:\n",
        "  if i%2==0:\n",
        "    even=even+1\n",
        "  else:\n",
        "    odd=odd+1\n",
        "print('even=',even,'odd=',odd)"
      ],
      "metadata": {
        "colab": {
          "base_uri": "https://localhost:8080/"
        },
        "id": "Yx5WZav2EYcF",
        "outputId": "69fc78c0-bf2a-43a2-8ee2-c57ba7613df6"
      },
      "execution_count": null,
      "outputs": [
        {
          "output_type": "stream",
          "name": "stdout",
          "text": [
            "even= 6 odd= 3\n"
          ]
        }
      ]
    },
    {
      "cell_type": "markdown",
      "source": [
        "Take a number as input from the user and display the multiplication table (till 10) for that number\n",
        "\n"
      ],
      "metadata": {
        "id": "EP8TeD2bGc9C"
      }
    },
    {
      "cell_type": "code",
      "source": [
        "multiply=int(input('enter any number'))\n",
        "for i in range(1,11):\n",
        "  print(multiply*i)"
      ],
      "metadata": {
        "colab": {
          "base_uri": "https://localhost:8080/"
        },
        "id": "vScS8t56IPWN",
        "outputId": "64f70fe4-5ed6-4eb2-ad4a-5c7cd5cae74e"
      },
      "execution_count": null,
      "outputs": [
        {
          "output_type": "stream",
          "name": "stdout",
          "text": [
            "enter any number10\n",
            "10\n",
            "20\n",
            "30\n",
            "40\n",
            "50\n",
            "60\n",
            "70\n",
            "80\n",
            "90\n",
            "100\n"
          ]
        }
      ]
    },
    {
      "cell_type": "markdown",
      "source": [
        "Calculate the sum and average of all numbers from 1 to a given number by the user"
      ],
      "metadata": {
        "id": "mWgyhRgYI7Ca"
      }
    },
    {
      "cell_type": "code",
      "source": [
        "n=int(input('enter any number'))\n",
        "sum=0\n",
        "for i in range(1,n+1):\n",
        "  sum=sum+i\n",
        "print('sum=',sum,'average',sum/n)"
      ],
      "metadata": {
        "colab": {
          "base_uri": "https://localhost:8080/"
        },
        "id": "eTkfUbZsKiNR",
        "outputId": "4ad599ad-12a1-4908-9174-b60a30cfc432"
      },
      "execution_count": null,
      "outputs": [
        {
          "output_type": "stream",
          "name": "stdout",
          "text": [
            "enter any number5\n",
            "sum= 15 average 3.0\n"
          ]
        }
      ]
    },
    {
      "cell_type": "markdown",
      "source": [
        "STATEMENT\n",
        "\n",
        "1.Pass- makes code segment inactive\n",
        "\n",
        "2.Break- foecebly come out of the loop\n",
        "\n",
        "3.Continue- element in condition is skipped and loop remains itrated"
      ],
      "metadata": {
        "id": "yZjAZSgLLUxA"
      }
    },
    {
      "cell_type": "code",
      "source": [
        "a=int(input('enter any number'))\n",
        "b=int(input('enter any number'))\n",
        "if a>b:\n",
        "  print('a is greater')\n",
        "else:\n",
        "  pass #else segment will be inactive"
      ],
      "metadata": {
        "id": "9L9qfm8ZLktg"
      },
      "execution_count": null,
      "outputs": []
    },
    {
      "cell_type": "code",
      "source": [
        "name=['tushar','kiran','ashwini','onkar','aarti','pawan','sam','yash','nil']\n",
        "for i in name:\n",
        "  if i=='onkar':\n",
        "    break #forcebly come out of loop after onkar\n",
        "  print(i)"
      ],
      "metadata": {
        "colab": {
          "base_uri": "https://localhost:8080/"
        },
        "id": "oMe8g5fnXe7_",
        "outputId": "3a3fccc9-0604-47b5-af63-60c14c83d9f2"
      },
      "execution_count": null,
      "outputs": [
        {
          "output_type": "stream",
          "name": "stdout",
          "text": [
            "tushar\n",
            "kiran\n",
            "ashwini\n"
          ]
        }
      ]
    },
    {
      "cell_type": "code",
      "source": [
        "t='aristocracy'\n",
        "for i in t:\n",
        "  if i=='c':\n",
        "    break #forcebly come out of the loop after 'c'.\n",
        "  print(i)"
      ],
      "metadata": {
        "colab": {
          "base_uri": "https://localhost:8080/"
        },
        "id": "e5_kgCZ-YoJD",
        "outputId": "5b412061-c389-4581-f164-cc86ac048cb4"
      },
      "execution_count": null,
      "outputs": [
        {
          "output_type": "stream",
          "name": "stdout",
          "text": [
            "a\n",
            "r\n",
            "i\n",
            "s\n",
            "t\n",
            "o\n"
          ]
        }
      ]
    },
    {
      "cell_type": "code",
      "source": [
        "name=['tushar','kiran','ashwini','onkar','aarti','pawan','sam','yash','nil']\n",
        "for i in name:\n",
        "  if i=='aarti':\n",
        "    continue #only 'aarti' is skipped\n",
        "  print(i)"
      ],
      "metadata": {
        "colab": {
          "base_uri": "https://localhost:8080/"
        },
        "id": "gVnFOrIaaFW7",
        "outputId": "475911fe-35af-430a-bb57-bbab9b97f83a"
      },
      "execution_count": null,
      "outputs": [
        {
          "output_type": "stream",
          "name": "stdout",
          "text": [
            "tushar\n",
            "kiran\n",
            "ashwini\n",
            "onkar\n",
            "pawan\n",
            "sam\n",
            "yash\n",
            "nil\n"
          ]
        }
      ]
    },
    {
      "cell_type": "code",
      "source": [
        "t='aristocracy'\n",
        "for i in t:\n",
        "  if i=='o':\n",
        "    continue\n",
        "  print(i)"
      ],
      "metadata": {
        "colab": {
          "base_uri": "https://localhost:8080/"
        },
        "id": "P8vd33cBbo_t",
        "outputId": "299cb501-0416-4596-d281-166900c9043e"
      },
      "execution_count": null,
      "outputs": [
        {
          "output_type": "stream",
          "name": "stdout",
          "text": [
            "a\n",
            "r\n",
            "i\n",
            "s\n",
            "t\n",
            "c\n",
            "r\n",
            "a\n",
            "c\n",
            "y\n"
          ]
        }
      ]
    },
    {
      "cell_type": "markdown",
      "source": [
        "Display all the numbers between 1 to 10 except 3 or 7"
      ],
      "metadata": {
        "id": "EWNy89D9cDs3"
      }
    },
    {
      "cell_type": "code",
      "source": [
        "for i in range(1,11):\n",
        "  if i==3 or i==7:\n",
        "    continue\n",
        "  print(i)"
      ],
      "metadata": {
        "colab": {
          "base_uri": "https://localhost:8080/"
        },
        "id": "IJoGhy9GcFGI",
        "outputId": "6264bbd5-5300-4732-de4e-d88f23802ce7"
      },
      "execution_count": null,
      "outputs": [
        {
          "output_type": "stream",
          "name": "stdout",
          "text": [
            "1\n",
            "2\n",
            "4\n",
            "5\n",
            "6\n",
            "8\n",
            "9\n",
            "10\n"
          ]
        }
      ]
    },
    {
      "cell_type": "markdown",
      "source": [
        "Assignments"
      ],
      "metadata": {
        "id": "VkJZEkK7pZzZ"
      }
    },
    {
      "cell_type": "markdown",
      "source": [
        "1.Write a program which accepts month's name as input and display the number of days in the month as output"
      ],
      "metadata": {
        "id": "-kyCu_LVpdwY"
      }
    },
    {
      "cell_type": "code",
      "source": [
        "month=input('enter name of month ')\n",
        "if month in('jan','march','may','july','aug','oct','dec'):\n",
        "  print('no. of days in',month,'are 31')\n",
        "elif month in('april','jun','sep','nov'):\n",
        "  print('no. of days in',month,'are 30')\n",
        "elif month in('feb'):\n",
        "  print('no. of days in',month,'are 28/29')\n"
      ],
      "metadata": {
        "colab": {
          "base_uri": "https://localhost:8080/"
        },
        "id": "RQbvVVrFp6Nj",
        "outputId": "5d30a8d4-65c4-48a8-cf35-e2db6f4b4210"
      },
      "execution_count": null,
      "outputs": [
        {
          "output_type": "stream",
          "name": "stdout",
          "text": [
            "enter name of month sep\n",
            "no. of days in sep are 30\n"
          ]
        }
      ]
    },
    {
      "cell_type": "markdown",
      "source": [
        "2.Take any word as input from the user and count the number of vowels in the word"
      ],
      "metadata": {
        "id": "Sv8drG42sdOx"
      }
    },
    {
      "cell_type": "code",
      "source": [
        "word=input('enter any word ')\n",
        "count=0\n",
        "for i in word:\n",
        "  if i in ('a','e','i','o','u'):\n",
        "    count=count+1\n",
        "print(count)"
      ],
      "metadata": {
        "colab": {
          "base_uri": "https://localhost:8080/"
        },
        "id": "yb9jE6DpsnpK",
        "outputId": "2ecd78de-2d22-499d-b685-5857b741157e"
      },
      "execution_count": null,
      "outputs": [
        {
          "output_type": "stream",
          "name": "stdout",
          "text": [
            "enter any word aashutosh\n",
            "4\n"
          ]
        }
      ]
    },
    {
      "cell_type": "markdown",
      "source": [
        "3.Write a program to separate even and odd numbers in two distinct lists from a list of numbers of your choice"
      ],
      "metadata": {
        "id": "nBoZy925vHR8"
      }
    },
    {
      "cell_type": "code",
      "source": [
        "n=[11,25,364,8,526,5874,22,5,45,785,369]\n",
        "even=[]\n",
        "odd=[]\n",
        "for i in n:\n",
        "  if i%2==0:\n",
        "    even.append(i)\n",
        "  else:\n",
        "    odd.append(i)\n",
        "print('even',even)\n",
        "print('odd',odd)"
      ],
      "metadata": {
        "colab": {
          "base_uri": "https://localhost:8080/"
        },
        "id": "UIv8fdKfvIEf",
        "outputId": "375ef0ca-9c30-4eb3-d9f0-0fca1aa37e65"
      },
      "execution_count": null,
      "outputs": [
        {
          "output_type": "stream",
          "name": "stdout",
          "text": [
            "even [364, 8, 526, 5874, 22]\n",
            "odd [11, 25, 5, 45, 785, 369]\n"
          ]
        }
      ]
    },
    {
      "cell_type": "markdown",
      "source": [
        "4.Write a program that appends datatype of elements from a list to a separate list"
      ],
      "metadata": {
        "id": "lDqT5QKDwc7Q"
      }
    },
    {
      "cell_type": "code",
      "source": [
        "type1=['dell','apple','hp',369,0.01,]\n",
        "type2=[]\n",
        "for i in type1:\n",
        "  type2.append(type(i))\n",
        "print(type2)"
      ],
      "metadata": {
        "colab": {
          "base_uri": "https://localhost:8080/"
        },
        "id": "xo1CJ7c0wkg8",
        "outputId": "7e8de8e1-4f96-48ec-9e73-240724c999cd"
      },
      "execution_count": null,
      "outputs": [
        {
          "output_type": "stream",
          "name": "stdout",
          "text": [
            "[<class 'str'>, <class 'str'>, <class 'str'>, <class 'int'>, <class 'float'>]\n"
          ]
        }
      ]
    },
    {
      "cell_type": "markdown",
      "source": [
        "5.Take a number as input from the user and find its factorial"
      ],
      "metadata": {
        "id": "6nVHayzNxpDM"
      }
    },
    {
      "cell_type": "code",
      "source": [
        "num=int(input('enter any number '))\n",
        "fact=1\n",
        "for i in range(1,num+1):\n",
        "  fact=fact*i\n",
        "print('factorial of',num,'is',fact)"
      ],
      "metadata": {
        "colab": {
          "base_uri": "https://localhost:8080/"
        },
        "id": "Gm06Zr22xrys",
        "outputId": "37408746-1ff4-4845-fe94-2e47caaeefb6"
      },
      "execution_count": null,
      "outputs": [
        {
          "output_type": "stream",
          "name": "stdout",
          "text": [
            "enter any number 5\n",
            "factorial of 5 is 120\n"
          ]
        }
      ]
    },
    {
      "cell_type": "markdown",
      "source": [
        "6.Write a program to display only those numbers from a list that satisfies the following conditions:\n",
        "\n",
        "The number must be divisible by 7\n",
        "\n",
        "If the number is 140 then skip it and move to the next number in the list\n",
        "\n",
        "If the number in the list is greater than 630 then stop the loop"
      ],
      "metadata": {
        "id": "1XzVXtNwBX73"
      }
    },
    {
      "cell_type": "code",
      "source": [
        "l1=[7,700,140,225]\n",
        "for i in l1:\n",
        "  if i==140:\n",
        "    continue\n",
        "  elif i>630:\n",
        "    break\n",
        "  elif i%7==0:\n",
        "    print(i)\n",
        "  else:\n",
        "    pass"
      ],
      "metadata": {
        "colab": {
          "base_uri": "https://localhost:8080/"
        },
        "id": "zCDz4UbDBZ4l",
        "outputId": "364882e6-aa58-4185-c04b-0fab48bf31d0"
      },
      "execution_count": null,
      "outputs": [
        {
          "output_type": "stream",
          "name": "stdout",
          "text": [
            "7\n"
          ]
        }
      ]
    }
  ]
}