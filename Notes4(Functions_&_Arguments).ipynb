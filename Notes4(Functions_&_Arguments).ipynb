{
  "nbformat": 4,
  "nbformat_minor": 0,
  "metadata": {
    "colab": {
      "provenance": [],
      "authorship_tag": "ABX9TyN7ZT9wKSVtjWbp5L+Hyeii",
      "include_colab_link": true
    },
    "kernelspec": {
      "name": "python3",
      "display_name": "Python 3"
    },
    "language_info": {
      "name": "python"
    }
  },
  "cells": [
    {
      "cell_type": "markdown",
      "metadata": {
        "id": "view-in-github",
        "colab_type": "text"
      },
      "source": [
        "<a href=\"https://colab.research.google.com/github/Enthusiasmile/Python_Codes/blob/main/Notes4(Functions_%26_Arguments).ipynb\" target=\"_parent\"><img src=\"https://colab.research.google.com/assets/colab-badge.svg\" alt=\"Open In Colab\"/></a>"
      ]
    },
    {
      "cell_type": "markdown",
      "source": [
        "Create a function which adds any given two numbers"
      ],
      "metadata": {
        "id": "7FXEIIRnYbTo"
      }
    },
    {
      "cell_type": "code",
      "source": [
        "def add(a,b): #def= for defining function #add= name of function #a,b are parameters \n",
        "  c=a+b       #defined\n",
        "  print(c)"
      ],
      "metadata": {
        "id": "7b5cKT-3al14"
      },
      "execution_count": null,
      "outputs": []
    },
    {
      "cell_type": "code",
      "source": [
        "add(7,6) #calling the function"
      ],
      "metadata": {
        "colab": {
          "base_uri": "https://localhost:8080/"
        },
        "id": "KleJhcI3a4vz",
        "outputId": "20ebef8a-680b-40f1-ed39-a4d057bb19cf"
      },
      "execution_count": null,
      "outputs": [
        {
          "output_type": "stream",
          "name": "stdout",
          "text": [
            "13\n"
          ]
        }
      ]
    },
    {
      "cell_type": "markdown",
      "source": [
        "Create a function which adds any given two numbers"
      ],
      "metadata": {
        "id": "jnQJKnIIb3u7"
      }
    },
    {
      "cell_type": "code",
      "source": [
        "def three(a,b,c): #three parameters \n",
        "  d=a+b+c         #defined\n",
        "  print(d)"
      ],
      "metadata": {
        "id": "si9_ly4Yb4jy"
      },
      "execution_count": null,
      "outputs": []
    },
    {
      "cell_type": "code",
      "source": [
        "three(5,78,256) #calling the function"
      ],
      "metadata": {
        "colab": {
          "base_uri": "https://localhost:8080/"
        },
        "id": "rjGFBv7PcBb0",
        "outputId": "9214a718-6a8a-468d-f4ae-d857eb31fb2e"
      },
      "execution_count": null,
      "outputs": [
        {
          "output_type": "stream",
          "name": "stdout",
          "text": [
            "339\n"
          ]
        }
      ]
    },
    {
      "cell_type": "markdown",
      "source": [
        "Create a function which displays whole number output of division operation on 2 numbers"
      ],
      "metadata": {
        "id": "J68RpjgbdLfm"
      }
    },
    {
      "cell_type": "code",
      "source": [
        "def fun(a,b):\n",
        "  c=a//b #whole number as output\n",
        "  print(c)"
      ],
      "metadata": {
        "id": "ebz3mdNFdMeT"
      },
      "execution_count": null,
      "outputs": []
    },
    {
      "cell_type": "code",
      "source": [
        "fun(100,3)"
      ],
      "metadata": {
        "colab": {
          "base_uri": "https://localhost:8080/"
        },
        "id": "wsvJl8-4dtDY",
        "outputId": "84a306e0-1fd4-44b0-fb05-a3af499d5d73"
      },
      "execution_count": null,
      "outputs": [
        {
          "output_type": "stream",
          "name": "stdout",
          "text": [
            "33\n"
          ]
        }
      ]
    },
    {
      "cell_type": "markdown",
      "source": [
        "Create a function which displays addition, subtraction, multiplication and division of 2 numbers"
      ],
      "metadata": {
        "id": "AtXJP1nMgo-5"
      }
    },
    {
      "cell_type": "code",
      "source": [
        "def all(a,b):\n",
        "  add=a+b\n",
        "  sub=a-b\n",
        "  mult=a*b\n",
        "  div=a/b\n",
        "  print(add,sub,mult,div)"
      ],
      "metadata": {
        "id": "R8IvpauSgqDP"
      },
      "execution_count": null,
      "outputs": []
    },
    {
      "cell_type": "code",
      "source": [
        "all(500,100)"
      ],
      "metadata": {
        "colab": {
          "base_uri": "https://localhost:8080/"
        },
        "id": "SVYp9mWphFHo",
        "outputId": "468fb6bb-241d-48ba-e319-e0f9b88a53a7"
      },
      "execution_count": null,
      "outputs": [
        {
          "output_type": "stream",
          "name": "stdout",
          "text": [
            "600 400 50000 5.0\n"
          ]
        }
      ]
    },
    {
      "cell_type": "markdown",
      "source": [
        "Create a function which takes name and age from the user and display the age of the person"
      ],
      "metadata": {
        "id": "uEbtyqn1hZpP"
      }
    },
    {
      "cell_type": "code",
      "source": [
        "def user(name, age):\n",
        "  print('hi',name,'your age is',age)"
      ],
      "metadata": {
        "id": "nx3MUxBbhbvs"
      },
      "execution_count": null,
      "outputs": []
    },
    {
      "cell_type": "code",
      "source": [
        "user('tushar',25)"
      ],
      "metadata": {
        "colab": {
          "base_uri": "https://localhost:8080/"
        },
        "id": "vdGJT0eehzG8",
        "outputId": "9f52cedf-4e7a-4853-ab4d-fcb3ffc74cc4"
      },
      "execution_count": null,
      "outputs": [
        {
          "output_type": "stream",
          "name": "stdout",
          "text": [
            "hi tushar your age is 25\n"
          ]
        }
      ]
    },
    {
      "cell_type": "markdown",
      "source": [
        "Create a function which takes name and salary as input from the user and display the name and salary of the person.\n",
        "\n",
        "In case the salary is not mentioned, take default salary as 15,0000"
      ],
      "metadata": {
        "id": "ae9TKwOfieNR"
      }
    },
    {
      "cell_type": "code",
      "source": [
        "def info(name,salary=150000): #salary=150000 will take salary 150000 by default\n",
        "  print('hi',name,'your salary is',salary)"
      ],
      "metadata": {
        "id": "Ee787QHdidii"
      },
      "execution_count": null,
      "outputs": []
    },
    {
      "cell_type": "code",
      "source": [
        "info('tush')"
      ],
      "metadata": {
        "colab": {
          "base_uri": "https://localhost:8080/"
        },
        "id": "5GJXAHLdi523",
        "outputId": "48701cc7-ed77-498b-8f5c-010737f7cb7d"
      },
      "execution_count": null,
      "outputs": [
        {
          "output_type": "stream",
          "name": "stdout",
          "text": [
            "hi tush your salary is 15000\n"
          ]
        }
      ]
    },
    {
      "cell_type": "markdown",
      "source": [
        "Create a function which adds all the elements given in a list of numbers"
      ],
      "metadata": {
        "id": "IP3w4Kt-jY0a"
      }
    },
    {
      "cell_type": "code",
      "source": [
        "def adds(number):\n",
        "  sum=0\n",
        "  for i in number:\n",
        "    sum=sum+i\n",
        "  print(sum)"
      ],
      "metadata": {
        "id": "g-plFJV6jYVO"
      },
      "execution_count": null,
      "outputs": []
    },
    {
      "cell_type": "code",
      "source": [
        "adds((1,25,456,852))"
      ],
      "metadata": {
        "colab": {
          "base_uri": "https://localhost:8080/"
        },
        "id": "CGXHuyUDkhMm",
        "outputId": "30ab98c6-8ed2-4705-eab8-51ddb7a710f0"
      },
      "execution_count": null,
      "outputs": [
        {
          "output_type": "stream",
          "name": "stdout",
          "text": [
            "1334\n"
          ]
        }
      ]
    },
    {
      "cell_type": "markdown",
      "source": [
        "Create a function which displays the largest number out of three given numbers"
      ],
      "metadata": {
        "id": "ClCw4Logk29_"
      }
    },
    {
      "cell_type": "code",
      "source": [
        "def larg(a,b,c):\n",
        "  if a>b and a>c:\n",
        "    print('largest number is',a)\n",
        "  elif b>a and b>c:\n",
        "    print('largest number is',b)\n",
        "  else:\n",
        "    print('largest number is',c)"
      ],
      "metadata": {
        "id": "0hr3DR8ak4FU"
      },
      "execution_count": null,
      "outputs": []
    },
    {
      "cell_type": "code",
      "source": [
        "larg(1000,200,9993)"
      ],
      "metadata": {
        "colab": {
          "base_uri": "https://localhost:8080/"
        },
        "id": "oxnXYzXxlYqg",
        "outputId": "d1f7091f-a0a5-48ea-e4ac-260b34608d43"
      },
      "execution_count": null,
      "outputs": [
        {
          "output_type": "stream",
          "name": "stdout",
          "text": [
            "largest number is 9993\n"
          ]
        }
      ]
    },
    {
      "cell_type": "markdown",
      "source": [
        "Create a function which computes area and circumference of a circle"
      ],
      "metadata": {
        "id": "gWIYKGS4mCvx"
      }
    },
    {
      "cell_type": "code",
      "source": [
        "#circumference=2*pie*r\n",
        "#area=pie*r*r\n",
        "#pie=3.14\n",
        "\n",
        "def compute(r):\n",
        "  circum=2*3.14*r\n",
        "  area=3.14*(r*r)\n",
        "  print('circumference is',circum,'area is',area)"
      ],
      "metadata": {
        "id": "tcFo9QjCmDwc"
      },
      "execution_count": null,
      "outputs": []
    },
    {
      "cell_type": "code",
      "source": [
        "compute(5)"
      ],
      "metadata": {
        "colab": {
          "base_uri": "https://localhost:8080/"
        },
        "id": "Oofy_a3kxD2Y",
        "outputId": "457c5f50-d24a-421e-d007-8d6138d79a5a"
      },
      "execution_count": null,
      "outputs": [
        {
          "output_type": "stream",
          "name": "stdout",
          "text": [
            "circumference is 31.400000000000002 area is 78.5\n"
          ]
        }
      ]
    },
    {
      "cell_type": "markdown",
      "source": [
        "Create a function which computes area and perimeter of a rectangle"
      ],
      "metadata": {
        "id": "TNty7UIvxM0H"
      }
    },
    {
      "cell_type": "code",
      "source": [
        "def react(l,b):\n",
        "  area=l*b #area of reactangle= length*breadth\n",
        "  peri=2*(l+b) #perimeter of reactangle= 2*(length+breadth)\n",
        "  print('area is',area,'perimeter is',peri)"
      ],
      "metadata": {
        "id": "_1kxgNhAyXsc"
      },
      "execution_count": null,
      "outputs": []
    },
    {
      "cell_type": "code",
      "source": [
        "react(10,8)"
      ],
      "metadata": {
        "colab": {
          "base_uri": "https://localhost:8080/"
        },
        "id": "MXZmTaNxy-NN",
        "outputId": "a852184c-cbd0-487e-cf71-a84c9a17a57c"
      },
      "execution_count": null,
      "outputs": [
        {
          "output_type": "stream",
          "name": "stdout",
          "text": [
            "area is 80 perimeter is 36\n"
          ]
        }
      ]
    },
    {
      "cell_type": "markdown",
      "source": [
        "Create a function which displays all the even numbers given in the list of numbers in a new separate list"
      ],
      "metadata": {
        "id": "J65e0Tw-zE98"
      }
    },
    {
      "cell_type": "code",
      "source": [
        "def even(numbers):\n",
        "  eve1=[] #new seperate list to store even numbers in given list\n",
        "  for i in numbers:\n",
        "    if i%2==0:\n",
        "      eve1.append(i)\n",
        "      print(i)"
      ],
      "metadata": {
        "id": "WEd_JCw4zEli"
      },
      "execution_count": null,
      "outputs": []
    },
    {
      "cell_type": "code",
      "source": [
        "even((10,25,36,45,85,987,63,66,45,85,))"
      ],
      "metadata": {
        "colab": {
          "base_uri": "https://localhost:8080/"
        },
        "id": "jPnkhFiCz-ho",
        "outputId": "04301b34-15e7-4e65-bdec-2a162cd2206c"
      },
      "execution_count": null,
      "outputs": [
        {
          "output_type": "stream",
          "name": "stdout",
          "text": [
            "10\n",
            "36\n",
            "66\n"
          ]
        }
      ]
    },
    {
      "cell_type": "markdown",
      "source": [
        "Create a function which counts the number of vowels and consonants in a given word\n",
        "\n",
        "Vowels - a,e,i,o,u\n",
        "\n",
        "Consonants - rest other alphabets"
      ],
      "metadata": {
        "id": "5078ZTt83Nlo"
      }
    },
    {
      "cell_type": "code",
      "source": [
        "def count(word):\n",
        "  vow=0  #vowel counter\n",
        "  cons=0 #consonents counter\n",
        "  for i in word:\n",
        "    if i in ('a','e','i','o','u'):\n",
        "      vow=vow+1\n",
        "    else:\n",
        "      cons=cons+1\n",
        "  print('vowels=',vow,'consonents=',cons)"
      ],
      "metadata": {
        "id": "lKSsjkbp59us"
      },
      "execution_count": null,
      "outputs": []
    },
    {
      "cell_type": "code",
      "source": [
        "count(('aristocracy'))"
      ],
      "metadata": {
        "colab": {
          "base_uri": "https://localhost:8080/"
        },
        "id": "ZjdB3Qi56yP9",
        "outputId": "c30a5fe0-5be5-4251-b830-dd1ef6db648c"
      },
      "execution_count": null,
      "outputs": [
        {
          "output_type": "stream",
          "name": "stdout",
          "text": [
            "vowels= 4 consonents= 7\n"
          ]
        }
      ]
    },
    {
      "cell_type": "markdown",
      "source": [
        "ARGUMENTS\n",
        "1. Default arguments\n",
        "\n",
        "2. Arbitrary arguments\n",
        "\n",
        "3. Keyword arguments\n",
        "\n",
        "4. Arbitrary keyword arguments"
      ],
      "metadata": {
        "id": "rul2_Fsn7PhD"
      }
    },
    {
      "cell_type": "markdown",
      "source": [
        "1.Default Argument"
      ],
      "metadata": {
        "id": "VBO8Wphr9sgP"
      }
    },
    {
      "cell_type": "markdown",
      "source": [
        "Create a function which greets \"Good morning\" to the customer by using his/her name.\n",
        "\n",
        "Incase the name is not provided, call the customer by the name \"User\""
      ],
      "metadata": {
        "id": "vQBHxqD--KpO"
      }
    },
    {
      "cell_type": "code",
      "source": [
        "def greet(name='user'):\n",
        "  print('hey',name,'Good Morning')"
      ],
      "metadata": {
        "id": "-E4VlFMW9yYu"
      },
      "execution_count": null,
      "outputs": []
    },
    {
      "cell_type": "code",
      "source": [
        "greet('Tushar')"
      ],
      "metadata": {
        "colab": {
          "base_uri": "https://localhost:8080/"
        },
        "id": "bMwCEEX5-pGc",
        "outputId": "d8f98b6a-92ac-4559-e96c-e6435efbd342"
      },
      "execution_count": null,
      "outputs": [
        {
          "output_type": "stream",
          "name": "stdout",
          "text": [
            "hey Tushar Good Morning\n"
          ]
        }
      ]
    },
    {
      "cell_type": "code",
      "source": [
        "greet()"
      ],
      "metadata": {
        "colab": {
          "base_uri": "https://localhost:8080/"
        },
        "id": "l-OXozez-tiV",
        "outputId": "d4f257b2-abf2-40f6-bc52-3c8d3e8485eb"
      },
      "execution_count": null,
      "outputs": [
        {
          "output_type": "stream",
          "name": "stdout",
          "text": [
            "hey user Good Morning\n"
          ]
        }
      ]
    },
    {
      "cell_type": "markdown",
      "source": [
        "2.Arbitrary arguments (*args)\n",
        "\n",
        "1. Here the number of parameters are unknown to us\n",
        "\n",
        "2. In order to accept any number of parameters from the user, we use * symbol along with the name of the parameter\n",
        "\n",
        "3. Arbitrary arguments are also called as *args"
      ],
      "metadata": {
        "id": "nrzVFdBJ_E_I"
      }
    },
    {
      "cell_type": "code",
      "source": [
        "def fun(*name):\n",
        "  print('youngest child is',name[2])"
      ],
      "metadata": {
        "id": "FMET4HRPLEr0"
      },
      "execution_count": null,
      "outputs": []
    },
    {
      "cell_type": "code",
      "source": [
        "fun('tushar','amol','div','john')"
      ],
      "metadata": {
        "colab": {
          "base_uri": "https://localhost:8080/"
        },
        "id": "atyzvZJZLNw5",
        "outputId": "c051c0d9-68a8-40fc-f053-3690d8de384a"
      },
      "execution_count": null,
      "outputs": [
        {
          "output_type": "stream",
          "name": "stdout",
          "text": [
            "youngest child is div\n"
          ]
        }
      ]
    },
    {
      "cell_type": "markdown",
      "source": [
        "3.Keyword arguments\n",
        "\n",
        "1. Here the number of parameters are known to us\n",
        "\n",
        "2. While calling the function, we provide the input in the form of key value pair\n",
        "\n",
        "3. Order of parameter does not play a role while defining also while calling"
      ],
      "metadata": {
        "id": "z5emkExwLd1y"
      }
    },
    {
      "cell_type": "code",
      "source": [
        "def fun1(first,second,third): #no. of parameters are known to us\n",
        "  print('my name is',first)"
      ],
      "metadata": {
        "id": "mqyqqPDjLfB1"
      },
      "execution_count": null,
      "outputs": []
    },
    {
      "cell_type": "code",
      "source": [
        "fun1(first='tushar',second='ashok',third='bahirat') #input in the form of key value pair"
      ],
      "metadata": {
        "colab": {
          "base_uri": "https://localhost:8080/"
        },
        "id": "od5hitEzP_HZ",
        "outputId": "77c655fe-2f62-4e5a-cbd3-278ff530a20d"
      },
      "execution_count": null,
      "outputs": [
        {
          "output_type": "stream",
          "name": "stdout",
          "text": [
            "my name is tushar\n"
          ]
        }
      ]
    },
    {
      "cell_type": "code",
      "source": [
        "fun1(second='ashok',first='tushar',third='bahirat') #order of parameter doesn't play any role"
      ],
      "metadata": {
        "colab": {
          "base_uri": "https://localhost:8080/"
        },
        "id": "rK_B2KuDQNY9",
        "outputId": "189346cb-412f-4942-89f9-5f833a692405"
      },
      "execution_count": null,
      "outputs": [
        {
          "output_type": "stream",
          "name": "stdout",
          "text": [
            "my name is tushar\n"
          ]
        }
      ]
    },
    {
      "cell_type": "markdown",
      "source": [
        "Arbitrary keyword arguments\n",
        "\n",
        "Here the number of parameters are unknown to us\n",
        "\n",
        "While calling the function, we provide the input in the form of key value pair\n",
        "\n",
        "We use ** symbol along with the name of the parameter\n",
        "\n",
        "Arbitrary keyword arguments are also called **kwargs"
      ],
      "metadata": {
        "id": "wub9zAZwQ7No"
      }
    },
    {
      "cell_type": "code",
      "source": [
        "def fun(**names):\n",
        "  print('my last name is',names['lname'])"
      ],
      "metadata": {
        "id": "l0TvMIIDQ8TB"
      },
      "execution_count": null,
      "outputs": []
    },
    {
      "cell_type": "code",
      "source": [
        "fun(fname='tushar',mname='ashok',lname='bahirat')"
      ],
      "metadata": {
        "colab": {
          "base_uri": "https://localhost:8080/"
        },
        "id": "telZi8O4RVNv",
        "outputId": "41f0ba31-47e0-4c9c-bfbf-e33fd793c5b2"
      },
      "execution_count": null,
      "outputs": [
        {
          "output_type": "stream",
          "name": "stdout",
          "text": [
            "my last name is bahirat\n"
          ]
        }
      ]
    },
    {
      "cell_type": "markdown",
      "source": [
        "RECURSION"
      ],
      "metadata": {
        "id": "wqRtJLjykbxM"
      }
    },
    {
      "cell_type": "markdown",
      "source": [
        "Create a function which calculates the factorial of a number\n",
        "\n"
      ],
      "metadata": {
        "id": "GNXPuk2ukjg5"
      }
    },
    {
      "cell_type": "code",
      "source": [
        "def func(n):\n",
        "\n",
        "  fact=1\n",
        "  if n<0:\n",
        "   print('factorial of -ve number does not exist')\n",
        "  elif n==1 or n==0:\n",
        "   print('factorial of',n,'is 1')\n",
        "  else:\n",
        "    while n>1:\n",
        "      fact=fact*n\n",
        "      n=(n-1)\n",
        "    print(fact)"
      ],
      "metadata": {
        "id": "EgNMvwSLKf8J"
      },
      "execution_count": null,
      "outputs": []
    },
    {
      "cell_type": "code",
      "source": [
        "func(5)"
      ],
      "metadata": {
        "colab": {
          "base_uri": "https://localhost:8080/"
        },
        "id": "SaWTdxEzO_Du",
        "outputId": "d99e3f60-9760-492c-f826-ad9a014da43f"
      },
      "execution_count": null,
      "outputs": [
        {
          "output_type": "stream",
          "name": "stdout",
          "text": [
            "120\n"
          ]
        }
      ]
    },
    {
      "cell_type": "markdown",
      "source": [
        "ASSIGNMENT"
      ],
      "metadata": {
        "id": "pcuTuI_lPJEO"
      }
    },
    {
      "cell_type": "markdown",
      "source": [
        "Define a function that accepts a number and returns whether the number is even or odd."
      ],
      "metadata": {
        "id": "Hm9T96qGPL7j"
      }
    },
    {
      "cell_type": "code",
      "source": [
        "def func4(n):\n",
        "  if n%2==0:\n",
        "    print(n,'is even')\n",
        "  else:\n",
        "    print(n,'is odd')"
      ],
      "metadata": {
        "id": "6oNwdiUxPTFS"
      },
      "execution_count": null,
      "outputs": []
    },
    {
      "cell_type": "code",
      "source": [
        "func4(19)"
      ],
      "metadata": {
        "colab": {
          "base_uri": "https://localhost:8080/"
        },
        "id": "ACM6X0vPPsa2",
        "outputId": "9d2b2567-9c32-41e2-86a2-2633f3d98bc0"
      },
      "execution_count": null,
      "outputs": [
        {
          "output_type": "stream",
          "name": "stdout",
          "text": [
            "19 is odd\n"
          ]
        }
      ]
    },
    {
      "cell_type": "markdown",
      "source": [
        "Define a function to create and print a list where the values are square of numbers between 1 and 30 (both included)."
      ],
      "metadata": {
        "id": "IkTJEumCP6Vq"
      }
    },
    {
      "cell_type": "code",
      "source": [
        "def fun():\n",
        "  sq=[]\n",
        "  for i in range(1,31):\n",
        "    square=i**2\n",
        "    sq.append(square)\n",
        "  print(sq)\n"
      ],
      "metadata": {
        "id": "kMWqmwGDSXpL"
      },
      "execution_count": null,
      "outputs": []
    },
    {
      "cell_type": "code",
      "source": [
        "fun()"
      ],
      "metadata": {
        "colab": {
          "base_uri": "https://localhost:8080/"
        },
        "id": "tzHBXRMgS7Dq",
        "outputId": "864b0af6-d8ca-4234-9328-8a83ffbf1596"
      },
      "execution_count": null,
      "outputs": [
        {
          "output_type": "stream",
          "name": "stdout",
          "text": [
            "[1, 4, 9, 16, 25, 36, 49, 64, 81, 100, 121, 144, 169, 196, 225, 256, 289, 324, 361, 400, 441, 484, 529, 576, 625, 676, 729, 784, 841, 900]\n"
          ]
        }
      ]
    },
    {
      "cell_type": "markdown",
      "source": [
        "Define a function, shut_down, that takes one parameter. Then, if the shut_down function receives a value equal to \"yes\", it should print \"Shutting down\". Alternatively, if vallue is equal to \"no\", then the function should print \"Shutdown aborted\". Finally, if shut_down gets anything other than those inputs, the function should print \"Sorry\"."
      ],
      "metadata": {
        "id": "SYt3JWzkTEU1"
      }
    },
    {
      "cell_type": "code",
      "source": [
        "def shut_down(n):\n",
        "  \n",
        "    if n=='yes':\n",
        "      print('shutting down')\n",
        "    elif n=='no':\n",
        "      print('shutdown aborted')\n",
        "    else:\n",
        "      print('sorry')"
      ],
      "metadata": {
        "id": "5qwn9D-CTGDM"
      },
      "execution_count": null,
      "outputs": []
    },
    {
      "cell_type": "code",
      "source": [
        "shut_down('sdkfo')"
      ],
      "metadata": {
        "colab": {
          "base_uri": "https://localhost:8080/"
        },
        "id": "8e4Bn3DhUjoR",
        "outputId": "9bd06bba-c473-428e-9600-d99b550728a8"
      },
      "execution_count": null,
      "outputs": [
        {
          "output_type": "stream",
          "name": "stdout",
          "text": [
            "sorry\n"
          ]
        }
      ]
    },
    {
      "cell_type": "markdown",
      "source": [
        "Define a function called \"by_three\" that takes a parameter called number. If that number is divisible by 3, \"by_three\" should print the cube of the number. Otherwise, by_three should print False."
      ],
      "metadata": {
        "id": "BR_XjS0sWFSJ"
      }
    },
    {
      "cell_type": "code",
      "source": [
        "def by_three(number):\n",
        "  if number%3==0:\n",
        "    print(number**3)\n",
        "  else:\n",
        "    print('false')"
      ],
      "metadata": {
        "id": "-LMLf3vfWEO5"
      },
      "execution_count": null,
      "outputs": []
    },
    {
      "cell_type": "code",
      "source": [
        "by_three(27)"
      ],
      "metadata": {
        "colab": {
          "base_uri": "https://localhost:8080/"
        },
        "id": "g72j9H39XSIE",
        "outputId": "65dbfe16-8592-4de1-d29a-1893dba659c0"
      },
      "execution_count": null,
      "outputs": [
        {
          "output_type": "stream",
          "name": "stdout",
          "text": [
            "19683\n"
          ]
        }
      ]
    },
    {
      "cell_type": "markdown",
      "source": [
        "Define a function that takes a list and prints a new list with no duplicate elements given in the first list."
      ],
      "metadata": {
        "id": "GP4yuvn7YSfv"
      }
    },
    {
      "cell_type": "code",
      "source": [
        "def f(n):\n",
        "  l=[]\n",
        "  for i in n:\n",
        "    if i not in l:\n",
        "      l.append(i)\n",
        "  print(l)\n"
      ],
      "metadata": {
        "id": "EoMUpd6vZ48L"
      },
      "execution_count": null,
      "outputs": []
    },
    {
      "cell_type": "code",
      "source": [
        "f((1,1,2,3,2,1,23,5,5,))"
      ],
      "metadata": {
        "colab": {
          "base_uri": "https://localhost:8080/"
        },
        "id": "G9Vk5XQraUYp",
        "outputId": "0fb4738d-523c-4c8e-c484-948f63efa81c"
      },
      "execution_count": null,
      "outputs": [
        {
          "output_type": "stream",
          "name": "stdout",
          "text": [
            "[1, 2, 3, 23, 5]\n"
          ]
        }
      ]
    },
    {
      "cell_type": "markdown",
      "source": [
        "Define a function that checks whether a passed string is palindrome or not."
      ],
      "metadata": {
        "id": "FKN2fvz0ayw5"
      }
    },
    {
      "cell_type": "code",
      "source": [
        "def f(n):\n",
        "  if n==n[::-1]:\n",
        "    print('palindrome')\n",
        "  else:\n",
        "    print('not palindrome')"
      ],
      "metadata": {
        "id": "V5613c5Q6g-4"
      },
      "execution_count": null,
      "outputs": []
    },
    {
      "cell_type": "code",
      "source": [
        "f('madam')"
      ],
      "metadata": {
        "colab": {
          "base_uri": "https://localhost:8080/"
        },
        "id": "0pgDgL7m60mc",
        "outputId": "cf603e1a-a4a8-4554-b545-ecc72d3657f6"
      },
      "execution_count": null,
      "outputs": [
        {
          "output_type": "stream",
          "name": "stdout",
          "text": [
            "palindrome\n"
          ]
        }
      ]
    }
  ]
}