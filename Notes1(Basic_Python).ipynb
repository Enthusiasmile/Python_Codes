{
  "nbformat": 4,
  "nbformat_minor": 0,
  "metadata": {
    "colab": {
      "provenance": [],
      "authorship_tag": "ABX9TyMZOvVbOeEZtjxVPaoyE+Se",
      "include_colab_link": true
    },
    "kernelspec": {
      "name": "python3",
      "display_name": "Python 3"
    },
    "language_info": {
      "name": "python"
    }
  },
  "cells": [
    {
      "cell_type": "markdown",
      "metadata": {
        "id": "view-in-github",
        "colab_type": "text"
      },
      "source": [
        "<a href=\"https://colab.research.google.com/github/Enthusiasmile/Python_Codes/blob/main/Notes1(Basic_Python).ipynb\" target=\"_parent\"><img src=\"https://colab.research.google.com/assets/colab-badge.svg\" alt=\"Open In Colab\"/></a>"
      ]
    },
    {
      "cell_type": "markdown",
      "source": [
        "VARIABLE"
      ],
      "metadata": {
        "id": "xtwoKjS5_o8l"
      }
    },
    {
      "cell_type": "code",
      "source": [
        "cup=['tea'] #here 'cup' is variable and 'tea' is data, which is stored in variable(cup)"
      ],
      "metadata": {
        "id": "pyL0yDi9CFKg"
      },
      "execution_count": null,
      "outputs": []
    },
    {
      "cell_type": "markdown",
      "source": [
        "TYPES OF DATA"
      ],
      "metadata": {
        "id": "5-YaapO-CTdb"
      }
    },
    {
      "cell_type": "code",
      "source": [
        "a='bill' #string= snything enclosed between \" \"\n",
        "type(a)"
      ],
      "metadata": {
        "colab": {
          "base_uri": "https://localhost:8080/"
        },
        "id": "_3AZa-pf_oQd",
        "outputId": "855fd59a-3c64-4799-8ab1-ea9c5961aa1f"
      },
      "execution_count": null,
      "outputs": [
        {
          "output_type": "execute_result",
          "data": {
            "text/plain": [
              "str"
            ]
          },
          "metadata": {},
          "execution_count": 31
        }
      ]
    },
    {
      "cell_type": "code",
      "source": [
        "l=[125,'tushar',2.56] #list= elements included in []\n",
        "type(l)"
      ],
      "metadata": {
        "colab": {
          "base_uri": "https://localhost:8080/"
        },
        "id": "O4eAt4Ka_-Zv",
        "outputId": "c3722f9c-65e0-4f26-e44d-fa6c347c4e31"
      },
      "execution_count": null,
      "outputs": [
        {
          "output_type": "execute_result",
          "data": {
            "text/plain": [
              "list"
            ]
          },
          "metadata": {},
          "execution_count": 32
        }
      ]
    },
    {
      "cell_type": "code",
      "source": [
        "n=100 #integer= any whole mumber\n",
        "type(n)"
      ],
      "metadata": {
        "colab": {
          "base_uri": "https://localhost:8080/"
        },
        "id": "4iyrZaVgAQyb",
        "outputId": "51b2f3c0-fa8f-47c2-a8e3-6e54dc9af37e"
      },
      "execution_count": null,
      "outputs": [
        {
          "output_type": "execute_result",
          "data": {
            "text/plain": [
              "int"
            ]
          },
          "metadata": {},
          "execution_count": 33
        }
      ]
    },
    {
      "cell_type": "code",
      "source": [
        "f=0.01 #float= any decimals\n",
        "type(f)"
      ],
      "metadata": {
        "colab": {
          "base_uri": "https://localhost:8080/"
        },
        "id": "4-at6SjpAkqo",
        "outputId": "ecf52f55-6361-4ef1-a790-108e54f09dc5"
      },
      "execution_count": null,
      "outputs": [
        {
          "output_type": "execute_result",
          "data": {
            "text/plain": [
              "float"
            ]
          },
          "metadata": {},
          "execution_count": 34
        }
      ]
    },
    {
      "cell_type": "code",
      "source": [
        "a=10 #conditional statement eg. true or false\n",
        "b=15\n",
        "a>b\n",
        "type(a>b)"
      ],
      "metadata": {
        "colab": {
          "base_uri": "https://localhost:8080/"
        },
        "id": "eHamS5RpBgT5",
        "outputId": "28b78dba-46d2-44c3-cc8d-5ceec125a491"
      },
      "execution_count": null,
      "outputs": [
        {
          "output_type": "execute_result",
          "data": {
            "text/plain": [
              "bool"
            ]
          },
          "metadata": {},
          "execution_count": 35
        }
      ]
    },
    {
      "cell_type": "markdown",
      "source": [
        "BUILT IN FUCTION "
      ],
      "metadata": {
        "id": "Du7bQEQr3yP1"
      }
    },
    {
      "cell_type": "markdown",
      "source": [
        "1.Print"
      ],
      "metadata": {
        "id": "uvt9ZA26-rb9"
      }
    },
    {
      "cell_type": "code",
      "source": [
        "india=['maharashtra','karnatak','punjab','goa']\n",
        "print(india) #print= displays the content in variable"
      ],
      "metadata": {
        "colab": {
          "base_uri": "https://localhost:8080/"
        },
        "id": "j83m3lH-f7gD",
        "outputId": "d7ed1531-4c76-409a-8eee-0d01caabdb83"
      },
      "execution_count": null,
      "outputs": [
        {
          "output_type": "stream",
          "name": "stdout",
          "text": [
            "['maharashtra', 'karnatak', 'punjab', 'goa']\n"
          ]
        }
      ]
    },
    {
      "cell_type": "code",
      "source": [
        "number=[2,48,79.5,102,64]\n",
        "print(number)"
      ],
      "metadata": {
        "colab": {
          "base_uri": "https://localhost:8080/"
        },
        "id": "DAZ8qHSPEALU",
        "outputId": "5d0614ba-8c92-45c5-a443-81c29d79164e"
      },
      "execution_count": null,
      "outputs": [
        {
          "output_type": "stream",
          "name": "stdout",
          "text": [
            "[2, 48, 79.5, 102, 64]\n"
          ]
        }
      ]
    },
    {
      "cell_type": "markdown",
      "source": [
        "2.Type"
      ],
      "metadata": {
        "id": "u7_IzhHC-ugV"
      }
    },
    {
      "cell_type": "code",
      "source": [
        "india=['maharashtra','karnatak','punjab','goa']\n",
        "type(india) #type= displays data type"
      ],
      "metadata": {
        "colab": {
          "base_uri": "https://localhost:8080/"
        },
        "id": "9LBHNffwGIDi",
        "outputId": "17956771-1fad-43a5-ddec-2c637106f5a0"
      },
      "execution_count": null,
      "outputs": [
        {
          "output_type": "execute_result",
          "data": {
            "text/plain": [
              "list"
            ]
          },
          "metadata": {},
          "execution_count": 43
        }
      ]
    },
    {
      "cell_type": "code",
      "source": [
        "n=845.59\n",
        "type(n)"
      ],
      "metadata": {
        "colab": {
          "base_uri": "https://localhost:8080/"
        },
        "id": "xyH4kCu4GiM4",
        "outputId": "ca9e5838-3b6c-47ec-b81d-ba9f9fdf2eb2"
      },
      "execution_count": null,
      "outputs": [
        {
          "output_type": "execute_result",
          "data": {
            "text/plain": [
              "float"
            ]
          },
          "metadata": {},
          "execution_count": 45
        }
      ]
    },
    {
      "cell_type": "code",
      "source": [
        "N=8525896\n",
        "print(N)"
      ],
      "metadata": {
        "colab": {
          "base_uri": "https://localhost:8080/"
        },
        "id": "9hXaXGzmGqB-",
        "outputId": "20b6f8c9-0dd8-40d5-820f-e5fa30f78a0a"
      },
      "execution_count": null,
      "outputs": [
        {
          "output_type": "stream",
          "name": "stdout",
          "text": [
            "8525896\n"
          ]
        }
      ]
    },
    {
      "cell_type": "markdown",
      "source": [
        "Input"
      ],
      "metadata": {
        "id": "Dr3K9Is_Gx7n"
      }
    },
    {
      "cell_type": "code",
      "source": [
        "name=input('enter your name ') #input= takes input from user"
      ],
      "metadata": {
        "colab": {
          "base_uri": "https://localhost:8080/"
        },
        "id": "fR4Mzh5-G09M",
        "outputId": "e5c2978f-9a33-4b1d-b120-e9d4161c6eab"
      },
      "execution_count": null,
      "outputs": [
        {
          "name": "stdout",
          "output_type": "stream",
          "text": [
            "enter your name Tushar\n"
          ]
        }
      ]
    },
    {
      "cell_type": "code",
      "source": [
        "age=input('enter your age ')"
      ],
      "metadata": {
        "colab": {
          "base_uri": "https://localhost:8080/"
        },
        "id": "2rYPGyD4Hgfp",
        "outputId": "d19e1e78-535f-4860-b576-fdd865c3d5b8"
      },
      "execution_count": null,
      "outputs": [
        {
          "name": "stdout",
          "output_type": "stream",
          "text": [
            "enter your age 25\n"
          ]
        }
      ]
    },
    {
      "cell_type": "markdown",
      "source": [
        "Type Casting"
      ],
      "metadata": {
        "id": "GVJH5EsuHqw_"
      }
    },
    {
      "cell_type": "code",
      "source": [
        "OTP=int(input('enter the OTP')) #only integer number will be accepted as OTP"
      ],
      "metadata": {
        "colab": {
          "base_uri": "https://localhost:8080/"
        },
        "id": "md81xfBC4xNO",
        "outputId": "59d7d8c2-1ad2-4002-fafb-5d90cfe202ab"
      },
      "execution_count": null,
      "outputs": [
        {
          "name": "stdout",
          "output_type": "stream",
          "text": [
            "enter the OTP1234\n"
          ]
        }
      ]
    },
    {
      "cell_type": "code",
      "source": [
        "temp=float(input('enter the temperature of your city ')) #float as well as integer number will be accepted as input"
      ],
      "metadata": {
        "colab": {
          "base_uri": "https://localhost:8080/"
        },
        "id": "MjPbOkYM5Ssl",
        "outputId": "6f279c18-4732-4523-b9de-b103fa384267"
      },
      "execution_count": null,
      "outputs": [
        {
          "name": "stdout",
          "output_type": "stream",
          "text": [
            "enter the temperature of your city 23.5\n"
          ]
        }
      ]
    },
    {
      "cell_type": "markdown",
      "source": [
        "OPERATERS\n",
        "+ Addition         \n",
        "+ Subtraction       \n",
        "+ Multiplication    \n",
        "+ Float Division    (/) (devides 'exactly' ie. float output)\n",
        "+ Integer Division  (//) (devides 'approxomately' ie.integer output)\n",
        "+ Exponent(**)      (calculates the power of number)\n",
        "+ Modulo/Percentile (%) (calculates the reminder of two elements)"
      ],
      "metadata": {
        "id": "I-wF1IWI6Ep2"
      }
    },
    {
      "cell_type": "markdown",
      "source": [
        "CONCATINATION"
      ],
      "metadata": {
        "id": "Ilp-mBsrMi2M"
      }
    },
    {
      "cell_type": "code",
      "source": [
        "a='my'\n",
        "b='india'\n",
        "print(a+b) #adds two strings"
      ],
      "metadata": {
        "colab": {
          "base_uri": "https://localhost:8080/"
        },
        "id": "Bs3m53u35-Or",
        "outputId": "bc3a3194-5cbe-4a10-8da8-4ea53f138a2b"
      },
      "execution_count": null,
      "outputs": [
        {
          "output_type": "stream",
          "name": "stdout",
          "text": [
            "myindia\n"
          ]
        }
      ]
    },
    {
      "cell_type": "code",
      "source": [
        "a=['tushar','vicky','india','']\n",
        "b=[101,0.01,1000]\n",
        "print(a+b) #adds two lists"
      ],
      "metadata": {
        "colab": {
          "base_uri": "https://localhost:8080/"
        },
        "id": "tFiFDrP3NzFj",
        "outputId": "a9e087bf-f757-4d95-faf9-b36b8b7c0c7a"
      },
      "execution_count": null,
      "outputs": [
        {
          "output_type": "stream",
          "name": "stdout",
          "text": [
            "['tushar', 'vicky', 'india', '', 101, 0.01, 1000]\n"
          ]
        }
      ]
    },
    {
      "cell_type": "code",
      "source": [
        "l1='india is'\n",
        "l2=['great']\n",
        "print(l1+l2) #string and lists can't be added"
      ],
      "metadata": {
        "colab": {
          "base_uri": "https://localhost:8080/",
          "height": 200
        },
        "id": "Yd3q3-ayOqYv",
        "outputId": "979dd755-aff5-419b-d520-a8c8764d704f"
      },
      "execution_count": null,
      "outputs": [
        {
          "output_type": "error",
          "ename": "TypeError",
          "evalue": "ignored",
          "traceback": [
            "\u001b[0;31m---------------------------------------------------------------------------\u001b[0m",
            "\u001b[0;31mTypeError\u001b[0m                                 Traceback (most recent call last)",
            "\u001b[0;32m<ipython-input-3-25b891018a9d>\u001b[0m in \u001b[0;36m<module>\u001b[0;34m\u001b[0m\n\u001b[1;32m      1\u001b[0m \u001b[0ml1\u001b[0m\u001b[0;34m=\u001b[0m\u001b[0;34m'india is'\u001b[0m\u001b[0;34m\u001b[0m\u001b[0;34m\u001b[0m\u001b[0m\n\u001b[1;32m      2\u001b[0m \u001b[0ml2\u001b[0m\u001b[0;34m=\u001b[0m\u001b[0;34m[\u001b[0m\u001b[0;34m'great'\u001b[0m\u001b[0;34m]\u001b[0m\u001b[0;34m\u001b[0m\u001b[0;34m\u001b[0m\u001b[0m\n\u001b[0;32m----> 3\u001b[0;31m \u001b[0mprint\u001b[0m\u001b[0;34m(\u001b[0m\u001b[0ml1\u001b[0m\u001b[0;34m+\u001b[0m\u001b[0ml2\u001b[0m\u001b[0;34m)\u001b[0m \u001b[0;31m#string and lists can't be added\u001b[0m\u001b[0;34m\u001b[0m\u001b[0;34m\u001b[0m\u001b[0m\n\u001b[0m",
            "\u001b[0;31mTypeError\u001b[0m: can only concatenate str (not \"list\") to str"
          ]
        }
      ]
    },
    {
      "cell_type": "code",
      "source": [
        "l3=list(l1) #list()= converts into list"
      ],
      "metadata": {
        "id": "lBSo3qTPPEEA"
      },
      "execution_count": null,
      "outputs": []
    },
    {
      "cell_type": "code",
      "source": [
        "print(l3+l2) #adds two lists"
      ],
      "metadata": {
        "colab": {
          "base_uri": "https://localhost:8080/"
        },
        "id": "OxabrBvqPlvo",
        "outputId": "add2dd78-c2d2-4ae0-f2ae-b1fca030bcaf"
      },
      "execution_count": null,
      "outputs": [
        {
          "output_type": "stream",
          "name": "stdout",
          "text": [
            "['i', 'n', 'd', 'i', 'a', ' ', 'i', 's', 'great']\n"
          ]
        }
      ]
    },
    {
      "cell_type": "code",
      "source": [
        "a1=['yash','sam','onkar']\n",
        "a2=[10,15,20]\n",
        "a3=['india','usa','uk']\n",
        "print(a1+a2+a3) #adds three lists"
      ],
      "metadata": {
        "colab": {
          "base_uri": "https://localhost:8080/"
        },
        "id": "1mP4nTgbRoCL",
        "outputId": "aff1729b-d5fe-42a1-dcd6-462dca931432"
      },
      "execution_count": null,
      "outputs": [
        {
          "output_type": "stream",
          "name": "stdout",
          "text": [
            "['yash', 'sam', 'onkar', 10, 15, 20, 'india', 'usa', 'uk']\n"
          ]
        }
      ]
    },
    {
      "cell_type": "markdown",
      "source": [
        "INDEXING"
      ],
      "metadata": {
        "id": "IVP8iH54Pupe"
      }
    },
    {
      "cell_type": "code",
      "source": [
        "a='INDIA'"
      ],
      "metadata": {
        "id": "zMFxUkOvPxmu"
      },
      "execution_count": null,
      "outputs": []
    },
    {
      "cell_type": "code",
      "source": [
        "a[0] #fetches 0th element"
      ],
      "metadata": {
        "colab": {
          "base_uri": "https://localhost:8080/",
          "height": 35
        },
        "id": "5TCk0vkVS-4M",
        "outputId": "cba66535-7e42-4f91-af98-dc7c05a9e2ab"
      },
      "execution_count": null,
      "outputs": [
        {
          "output_type": "execute_result",
          "data": {
            "text/plain": [
              "'I'"
            ],
            "application/vnd.google.colaboratory.intrinsic+json": {
              "type": "string"
            }
          },
          "metadata": {},
          "execution_count": 74
        }
      ]
    },
    {
      "cell_type": "code",
      "source": [
        "a[-1] #fetches -1st element "
      ],
      "metadata": {
        "colab": {
          "base_uri": "https://localhost:8080/",
          "height": 35
        },
        "id": "5MOp38GATJsT",
        "outputId": "e77bec05-a678-4f3e-a4e2-ef0f8c8739a3"
      },
      "execution_count": null,
      "outputs": [
        {
          "output_type": "execute_result",
          "data": {
            "text/plain": [
              "'A'"
            ],
            "application/vnd.google.colaboratory.intrinsic+json": {
              "type": "string"
            }
          },
          "metadata": {},
          "execution_count": 76
        }
      ]
    },
    {
      "cell_type": "code",
      "source": [
        "a[2] #fetches 2nd element"
      ],
      "metadata": {
        "colab": {
          "base_uri": "https://localhost:8080/",
          "height": 35
        },
        "id": "EzM9KMlbUVVO",
        "outputId": "17147591-9e01-416f-edef-8bd5831b0400"
      },
      "execution_count": null,
      "outputs": [
        {
          "output_type": "execute_result",
          "data": {
            "text/plain": [
              "'D'"
            ],
            "application/vnd.google.colaboratory.intrinsic+json": {
              "type": "string"
            }
          },
          "metadata": {},
          "execution_count": 78
        }
      ]
    },
    {
      "cell_type": "code",
      "source": [
        "a[-3] #fetches -3rd element"
      ],
      "metadata": {
        "colab": {
          "base_uri": "https://localhost:8080/",
          "height": 35
        },
        "id": "0G9GYwIJUuzp",
        "outputId": "8be8b80d-df7b-4611-8fe7-f74fe2d9b0ee"
      },
      "execution_count": null,
      "outputs": [
        {
          "output_type": "execute_result",
          "data": {
            "text/plain": [
              "'D'"
            ],
            "application/vnd.google.colaboratory.intrinsic+json": {
              "type": "string"
            }
          },
          "metadata": {},
          "execution_count": 79
        }
      ]
    },
    {
      "cell_type": "code",
      "source": [
        "l1=['india','usa','uk','germany','canada',101154,0.2359]"
      ],
      "metadata": {
        "id": "sKSjKafXU8Km"
      },
      "execution_count": null,
      "outputs": []
    },
    {
      "cell_type": "code",
      "source": [
        "l1[2] #fetches 2nd element from list"
      ],
      "metadata": {
        "colab": {
          "base_uri": "https://localhost:8080/",
          "height": 35
        },
        "id": "9JrEYYWiVL9J",
        "outputId": "67971ab2-c7ac-4cf6-dac0-9a60cd3f18a1"
      },
      "execution_count": null,
      "outputs": [
        {
          "output_type": "execute_result",
          "data": {
            "text/plain": [
              "'uk'"
            ],
            "application/vnd.google.colaboratory.intrinsic+json": {
              "type": "string"
            }
          },
          "metadata": {},
          "execution_count": 81
        }
      ]
    },
    {
      "cell_type": "code",
      "source": [
        "l1[-3] #fetches -3rd element from list"
      ],
      "metadata": {
        "colab": {
          "base_uri": "https://localhost:8080/",
          "height": 35
        },
        "id": "x144EX5MVUgE",
        "outputId": "6d6f80c1-7363-41d1-dc02-5e59f8a6a8a8"
      },
      "execution_count": null,
      "outputs": [
        {
          "output_type": "execute_result",
          "data": {
            "text/plain": [
              "'canada'"
            ],
            "application/vnd.google.colaboratory.intrinsic+json": {
              "type": "string"
            }
          },
          "metadata": {},
          "execution_count": 82
        }
      ]
    },
    {
      "cell_type": "markdown",
      "source": [
        "SLICING"
      ],
      "metadata": {
        "id": "OH-5-xJxU2gA"
      }
    },
    {
      "cell_type": "code",
      "source": [
        "c='ARISTOCRACY'"
      ],
      "metadata": {
        "id": "__neiXK3ViBf"
      },
      "execution_count": null,
      "outputs": []
    },
    {
      "cell_type": "code",
      "source": [
        "c[1:6] #fetches elements from 1st to 5th. 1=start 6=stop(exclusive)"
      ],
      "metadata": {
        "colab": {
          "base_uri": "https://localhost:8080/",
          "height": 35
        },
        "id": "0xiVNrn2Vt9P",
        "outputId": "37730977-a25b-4094-c929-6766ecb9f746"
      },
      "execution_count": null,
      "outputs": [
        {
          "output_type": "execute_result",
          "data": {
            "text/plain": [
              "'RISTO'"
            ],
            "application/vnd.google.colaboratory.intrinsic+json": {
              "type": "string"
            }
          },
          "metadata": {},
          "execution_count": 8
        }
      ]
    },
    {
      "cell_type": "code",
      "source": [
        "c[-5:] #fetches element from -5th to till end"
      ],
      "metadata": {
        "colab": {
          "base_uri": "https://localhost:8080/",
          "height": 35
        },
        "id": "fZsX_Pr8WTVa",
        "outputId": "d600195c-de5d-4982-8b2d-39fadce3b834"
      },
      "execution_count": null,
      "outputs": [
        {
          "output_type": "execute_result",
          "data": {
            "text/plain": [
              "'CRACY'"
            ],
            "application/vnd.google.colaboratory.intrinsic+json": {
              "type": "string"
            }
          },
          "metadata": {},
          "execution_count": 9
        }
      ]
    },
    {
      "cell_type": "code",
      "source": [
        "c[:6]"
      ],
      "metadata": {
        "colab": {
          "base_uri": "https://localhost:8080/",
          "height": 35
        },
        "id": "xf7xyuzhaLpc",
        "outputId": "1a62a49b-a93f-4651-f383-0283f0a0870d"
      },
      "execution_count": null,
      "outputs": [
        {
          "output_type": "execute_result",
          "data": {
            "text/plain": [
              "'ARISTO'"
            ],
            "application/vnd.google.colaboratory.intrinsic+json": {
              "type": "string"
            }
          },
          "metadata": {},
          "execution_count": 10
        }
      ]
    },
    {
      "cell_type": "code",
      "source": [
        "c[:] #fetches all elements"
      ],
      "metadata": {
        "colab": {
          "base_uri": "https://localhost:8080/",
          "height": 35
        },
        "id": "5Y46V5KtXP2a",
        "outputId": "f2f6781f-fa60-4f46-c57c-88a9d610a5ac"
      },
      "execution_count": null,
      "outputs": [
        {
          "output_type": "execute_result",
          "data": {
            "text/plain": [
              "'ARISTOCRACY'"
            ],
            "application/vnd.google.colaboratory.intrinsic+json": {
              "type": "string"
            }
          },
          "metadata": {},
          "execution_count": 11
        }
      ]
    },
    {
      "cell_type": "code",
      "source": [
        "c[-11:]"
      ],
      "metadata": {
        "colab": {
          "base_uri": "https://localhost:8080/",
          "height": 35
        },
        "id": "1sa8osUmakJN",
        "outputId": "8ecb5c3c-b3b9-4eef-d3ec-bb772cbda99f"
      },
      "execution_count": null,
      "outputs": [
        {
          "output_type": "execute_result",
          "data": {
            "text/plain": [
              "'ARISTOCRACY'"
            ],
            "application/vnd.google.colaboratory.intrinsic+json": {
              "type": "string"
            }
          },
          "metadata": {},
          "execution_count": 12
        }
      ]
    },
    {
      "cell_type": "code",
      "source": [
        "c[::1] #1= stepsize"
      ],
      "metadata": {
        "colab": {
          "base_uri": "https://localhost:8080/",
          "height": 35
        },
        "id": "JcmJZHCYXXBD",
        "outputId": "1233072f-de9a-4992-bccc-e6919076ef02"
      },
      "execution_count": null,
      "outputs": [
        {
          "output_type": "execute_result",
          "data": {
            "text/plain": [
              "'ARISTOCRACY'"
            ],
            "application/vnd.google.colaboratory.intrinsic+json": {
              "type": "string"
            }
          },
          "metadata": {},
          "execution_count": 13
        }
      ]
    },
    {
      "cell_type": "code",
      "source": [
        "c[::2] #2nd element will be displayed from selection"
      ],
      "metadata": {
        "colab": {
          "base_uri": "https://localhost:8080/",
          "height": 35
        },
        "id": "xo1wrYwYXvLY",
        "outputId": "e6c0264e-751d-488e-b198-58ce92be9eb3"
      },
      "execution_count": null,
      "outputs": [
        {
          "output_type": "execute_result",
          "data": {
            "text/plain": [
              "'AITCAY'"
            ],
            "application/vnd.google.colaboratory.intrinsic+json": {
              "type": "string"
            }
          },
          "metadata": {},
          "execution_count": 14
        }
      ]
    },
    {
      "cell_type": "code",
      "source": [
        "c[1:9:3]"
      ],
      "metadata": {
        "colab": {
          "base_uri": "https://localhost:8080/",
          "height": 35
        },
        "id": "PDb-dNQdZxGU",
        "outputId": "b19a2f03-ec77-476c-db22-f90e62eff2c4"
      },
      "execution_count": null,
      "outputs": [
        {
          "output_type": "execute_result",
          "data": {
            "text/plain": [
              "'RTR'"
            ],
            "application/vnd.google.colaboratory.intrinsic+json": {
              "type": "string"
            }
          },
          "metadata": {},
          "execution_count": 15
        }
      ]
    },
    {
      "cell_type": "code",
      "source": [
        "c[-11:-6]"
      ],
      "metadata": {
        "colab": {
          "base_uri": "https://localhost:8080/",
          "height": 35
        },
        "id": "yTRq6iLaYgGE",
        "outputId": "8a597174-84cc-4cfe-e9af-2657a5d2ef03"
      },
      "execution_count": null,
      "outputs": [
        {
          "output_type": "execute_result",
          "data": {
            "text/plain": [
              "'ARIST'"
            ],
            "application/vnd.google.colaboratory.intrinsic+json": {
              "type": "string"
            }
          },
          "metadata": {},
          "execution_count": 16
        }
      ]
    },
    {
      "cell_type": "code",
      "source": [
        "c[::-1] #displays in reverse"
      ],
      "metadata": {
        "colab": {
          "base_uri": "https://localhost:8080/",
          "height": 35
        },
        "id": "mwBFh45oZF3F",
        "outputId": "d5c63b11-d581-4e9d-cb0e-9ea97dca6eb0"
      },
      "execution_count": null,
      "outputs": [
        {
          "output_type": "execute_result",
          "data": {
            "text/plain": [
              "'YCARCOTSIRA'"
            ],
            "application/vnd.google.colaboratory.intrinsic+json": {
              "type": "string"
            }
          },
          "metadata": {},
          "execution_count": 17
        }
      ]
    },
    {
      "cell_type": "code",
      "source": [
        "l1=['India','China','Russia','USA']"
      ],
      "metadata": {
        "id": "PGQp9GJYcnsH"
      },
      "execution_count": null,
      "outputs": []
    },
    {
      "cell_type": "code",
      "source": [
        "l1[::-1]"
      ],
      "metadata": {
        "colab": {
          "base_uri": "https://localhost:8080/"
        },
        "id": "Verz0RnPcvAU",
        "outputId": "0a9df350-c062-4853-b0ed-56b125920802"
      },
      "execution_count": null,
      "outputs": [
        {
          "output_type": "execute_result",
          "data": {
            "text/plain": [
              "['USA', 'Russia', 'China', 'India']"
            ]
          },
          "metadata": {},
          "execution_count": 74
        }
      ]
    },
    {
      "cell_type": "code",
      "source": [
        "l1[::-2]"
      ],
      "metadata": {
        "colab": {
          "base_uri": "https://localhost:8080/"
        },
        "id": "CPWdcuRsc846",
        "outputId": "4f53a412-ead5-425c-e457-d84c580a9caa"
      },
      "execution_count": null,
      "outputs": [
        {
          "output_type": "execute_result",
          "data": {
            "text/plain": [
              "['USA', 'China']"
            ]
          },
          "metadata": {},
          "execution_count": 75
        }
      ]
    },
    {
      "cell_type": "markdown",
      "source": [
        "NESTED LIST"
      ],
      "metadata": {
        "id": "-DO7Kud1a8dT"
      }
    },
    {
      "cell_type": "code",
      "source": [
        "l1=['India','US','UK','Germany','france',['Delhi','Mumbai','Varanasi','hyderabad']]"
      ],
      "metadata": {
        "id": "zRkxrJb5bD-f"
      },
      "execution_count": null,
      "outputs": []
    },
    {
      "cell_type": "code",
      "source": [
        "l1[3]"
      ],
      "metadata": {
        "colab": {
          "base_uri": "https://localhost:8080/",
          "height": 35
        },
        "id": "R2Bntr3CbeZs",
        "outputId": "e19271b2-5ac3-45e9-a855-e591a968d0ac"
      },
      "execution_count": null,
      "outputs": [
        {
          "output_type": "execute_result",
          "data": {
            "text/plain": [
              "'Germany'"
            ],
            "application/vnd.google.colaboratory.intrinsic+json": {
              "type": "string"
            }
          },
          "metadata": {},
          "execution_count": 106
        }
      ]
    },
    {
      "cell_type": "code",
      "source": [
        "l1[5][2]"
      ],
      "metadata": {
        "colab": {
          "base_uri": "https://localhost:8080/",
          "height": 35
        },
        "id": "iXttH-kLbhrh",
        "outputId": "5d84923a-2cc6-48fb-f2ff-f52d7b867254"
      },
      "execution_count": null,
      "outputs": [
        {
          "output_type": "execute_result",
          "data": {
            "text/plain": [
              "'Varanasi'"
            ],
            "application/vnd.google.colaboratory.intrinsic+json": {
              "type": "string"
            }
          },
          "metadata": {},
          "execution_count": 107
        }
      ]
    },
    {
      "cell_type": "code",
      "source": [
        "l1[-1][-1][-3:]"
      ],
      "metadata": {
        "colab": {
          "base_uri": "https://localhost:8080/",
          "height": 35
        },
        "id": "pkG0rKnsb3k0",
        "outputId": "3d5c0972-0915-44fd-e38d-385e12ae6652"
      },
      "execution_count": null,
      "outputs": [
        {
          "output_type": "execute_result",
          "data": {
            "text/plain": [
              "'bad'"
            ],
            "application/vnd.google.colaboratory.intrinsic+json": {
              "type": "string"
            }
          },
          "metadata": {},
          "execution_count": 110
        }
      ]
    },
    {
      "cell_type": "code",
      "source": [
        "l1[5][::2]"
      ],
      "metadata": {
        "colab": {
          "base_uri": "https://localhost:8080/"
        },
        "id": "Ky8z8ZlAc6NN",
        "outputId": "3d5b8cd6-1d36-4038-b95c-7f5deac60544"
      },
      "execution_count": null,
      "outputs": [
        {
          "output_type": "execute_result",
          "data": {
            "text/plain": [
              "['Delhi', 'Varanasi']"
            ]
          },
          "metadata": {},
          "execution_count": 115
        }
      ]
    },
    {
      "cell_type": "code",
      "source": [
        "l2=['Mango','Banana','Grapes',['Pune','Hyderabad','Bangalore'],['DataScience', 'MachineLearning']]"
      ],
      "metadata": {
        "id": "RwE9CsJtRxQk"
      },
      "execution_count": null,
      "outputs": []
    },
    {
      "cell_type": "code",
      "source": [
        "a=l2[3][:]\n",
        "b=l2[4][:]\n",
        "c=l2[0:3]\n",
        "print(c+a+b) #making single list from nested list"
      ],
      "metadata": {
        "colab": {
          "base_uri": "https://localhost:8080/"
        },
        "id": "rzgMLaylSgZS",
        "outputId": "d16efae6-c4fb-4d8e-e1ae-e3c32ac3fa39"
      },
      "execution_count": null,
      "outputs": [
        {
          "output_type": "stream",
          "name": "stdout",
          "text": [
            "['Mango', 'Banana', 'Grapes', 'Pune', 'Hyderabad', 'Bangalore', 'DataScience', 'MachineLearning']\n"
          ]
        }
      ]
    },
    {
      "cell_type": "markdown",
      "source": [
        "BUILT IN FUNCTIONS- LIST"
      ],
      "metadata": {
        "id": "tlMXVrozTpWy"
      }
    },
    {
      "cell_type": "code",
      "source": [
        "l1=['AI','NLP','Computer Vision','DataScience']"
      ],
      "metadata": {
        "id": "Q_aHZfX_ToQe"
      },
      "execution_count": null,
      "outputs": []
    },
    {
      "cell_type": "code",
      "source": [
        "l1.append('deep learning') #deep learning will be added at the end of l1\n",
        "print(l1)"
      ],
      "metadata": {
        "colab": {
          "base_uri": "https://localhost:8080/"
        },
        "id": "JzVZXL9nT4V0",
        "outputId": "bde9d451-ec49-4725-85f2-3ecdce7bc556"
      },
      "execution_count": null,
      "outputs": [
        {
          "output_type": "stream",
          "name": "stdout",
          "text": [
            "['AI', 'NLP', 'Computer Vision', 'DataScience', 'deep learning']\n"
          ]
        }
      ]
    },
    {
      "cell_type": "code",
      "source": [
        "l2=[34,35,89,90]\n",
        "l2.append(100)\n",
        "print(l2)"
      ],
      "metadata": {
        "colab": {
          "base_uri": "https://localhost:8080/"
        },
        "id": "ZIkdPetzVaQT",
        "outputId": "d3f8cb57-81be-4a39-c40f-2bfdf822f180"
      },
      "execution_count": null,
      "outputs": [
        {
          "output_type": "stream",
          "name": "stdout",
          "text": [
            "[34, 35, 89, 90, 100]\n"
          ]
        }
      ]
    },
    {
      "cell_type": "code",
      "source": [
        "l1.insert(0,'NLP') #adds element at desire index position\n",
        "print(l1)"
      ],
      "metadata": {
        "colab": {
          "base_uri": "https://localhost:8080/"
        },
        "id": "PtpGC_UFUZWq",
        "outputId": "cd6622c8-cec0-47d3-d307-14fc422ad7ad"
      },
      "execution_count": null,
      "outputs": [
        {
          "output_type": "stream",
          "name": "stdout",
          "text": [
            "['NLP', 'AI', 'NLP', 'Computer Vision', 'DataScience', 'deep learning']\n"
          ]
        }
      ]
    },
    {
      "cell_type": "code",
      "source": [
        "l1.insert(0,'IOT')  #adds element at desire index position\n",
        "print(l1)"
      ],
      "metadata": {
        "colab": {
          "base_uri": "https://localhost:8080/"
        },
        "id": "SvZW4vcsVAEq",
        "outputId": "3ed4d64a-d863-4250-9f88-a4e21104518f"
      },
      "execution_count": null,
      "outputs": [
        {
          "output_type": "stream",
          "name": "stdout",
          "text": [
            "['IOT', 'NLP', 'AI', 'NLP', 'Computer Vision', 'DataScience', 'deep learning']\n"
          ]
        }
      ]
    },
    {
      "cell_type": "code",
      "source": [
        "l2.insert(1,54)\n",
        "print(l2)"
      ],
      "metadata": {
        "colab": {
          "base_uri": "https://localhost:8080/"
        },
        "id": "I-PwEZUEVkcU",
        "outputId": "0d8adfeb-cc72-4821-f7a2-331f536a85c8"
      },
      "execution_count": null,
      "outputs": [
        {
          "output_type": "stream",
          "name": "stdout",
          "text": [
            "[34, 54, 35, 89, 90, 100]\n"
          ]
        }
      ]
    },
    {
      "cell_type": "code",
      "source": [
        "l1.remove('NLP') #deletes 1st occurance of element from list\n",
        "print(l1)"
      ],
      "metadata": {
        "colab": {
          "base_uri": "https://localhost:8080/"
        },
        "id": "Sc3CMIw6V-pp",
        "outputId": "a5beefd8-1392-4220-b3de-9ba3a4d4c90b"
      },
      "execution_count": null,
      "outputs": [
        {
          "output_type": "stream",
          "name": "stdout",
          "text": [
            "['IOT', 'AI', 'NLP', 'Computer Vision', 'DataScience', 'deep learning']\n"
          ]
        }
      ]
    },
    {
      "cell_type": "code",
      "source": [
        "l1.remove('DataScience')\n",
        "print(l1)"
      ],
      "metadata": {
        "colab": {
          "base_uri": "https://localhost:8080/"
        },
        "id": "z89-aP_YWWGT",
        "outputId": "1abe63de-c84d-4411-d1e2-2d430c4dc068"
      },
      "execution_count": null,
      "outputs": [
        {
          "output_type": "stream",
          "name": "stdout",
          "text": [
            "['IOT', 'AI', 'NLP', 'Computer Vision', 'deep learning']\n"
          ]
        }
      ]
    },
    {
      "cell_type": "code",
      "source": [
        "l1.pop(3) #deletes desired index postional element\n",
        "print(l1)"
      ],
      "metadata": {
        "colab": {
          "base_uri": "https://localhost:8080/"
        },
        "id": "zKoNkyqeYnKT",
        "outputId": "f1189fdc-15fb-43d8-b5fb-148318a78232"
      },
      "execution_count": null,
      "outputs": [
        {
          "output_type": "stream",
          "name": "stdout",
          "text": [
            "['IOT', 'AI', 'NLP', 'deep learning']\n"
          ]
        }
      ]
    },
    {
      "cell_type": "code",
      "source": [
        "l1.extend(['datascience','machine learning']) #adds multiple element at the end\n",
        "print(l1)"
      ],
      "metadata": {
        "colab": {
          "base_uri": "https://localhost:8080/"
        },
        "id": "IX0o6sWZY48U",
        "outputId": "578f8c7e-e0ab-49c9-89bf-ab9295ded626"
      },
      "execution_count": null,
      "outputs": [
        {
          "output_type": "stream",
          "name": "stdout",
          "text": [
            "['IOT', 'AI', 'NLP', 'datascience', 'machine learning']\n"
          ]
        }
      ]
    },
    {
      "cell_type": "code",
      "source": [
        "len(l1) #counts total number of elements in list"
      ],
      "metadata": {
        "colab": {
          "base_uri": "https://localhost:8080/"
        },
        "id": "sYRklXToZj10",
        "outputId": "c0b61240-3b07-4aa6-9ff1-b95b7d3ac23a"
      },
      "execution_count": null,
      "outputs": [
        {
          "output_type": "execute_result",
          "data": {
            "text/plain": [
              "5"
            ]
          },
          "metadata": {},
          "execution_count": 48
        }
      ]
    },
    {
      "cell_type": "code",
      "source": [
        "len(l2)"
      ],
      "metadata": {
        "colab": {
          "base_uri": "https://localhost:8080/"
        },
        "id": "nGRHFgpdZx7C",
        "outputId": "28203905-3fe8-4a70-dfa5-7931cfcfe4f7"
      },
      "execution_count": null,
      "outputs": [
        {
          "output_type": "execute_result",
          "data": {
            "text/plain": [
              "6"
            ]
          },
          "metadata": {},
          "execution_count": 49
        }
      ]
    },
    {
      "cell_type": "code",
      "source": [
        "l3=[1,5,9,9,5,1,2,5,4,4,5,2,5,2,6,5,2,4,5,81,100,0.1]"
      ],
      "metadata": {
        "id": "ykKy64jTaUqU"
      },
      "execution_count": null,
      "outputs": []
    },
    {
      "cell_type": "code",
      "source": [
        "l3.count(4) #counts frequency of element"
      ],
      "metadata": {
        "colab": {
          "base_uri": "https://localhost:8080/"
        },
        "id": "4hAUk0S2acaH",
        "outputId": "8cda3cf2-aa77-4f5b-b776-52f35af1afc7"
      },
      "execution_count": null,
      "outputs": [
        {
          "output_type": "execute_result",
          "data": {
            "text/plain": [
              "3"
            ]
          },
          "metadata": {},
          "execution_count": 61
        }
      ]
    },
    {
      "cell_type": "code",
      "source": [
        "max(l3) #highest number"
      ],
      "metadata": {
        "colab": {
          "base_uri": "https://localhost:8080/"
        },
        "id": "teTmadAUa8pZ",
        "outputId": "3f74f589-38ee-4300-9b05-895c3a78543b"
      },
      "execution_count": null,
      "outputs": [
        {
          "output_type": "execute_result",
          "data": {
            "text/plain": [
              "100"
            ]
          },
          "metadata": {},
          "execution_count": 63
        }
      ]
    },
    {
      "cell_type": "code",
      "source": [
        "min(l3) #smallest number"
      ],
      "metadata": {
        "colab": {
          "base_uri": "https://localhost:8080/"
        },
        "id": "j4qjIfxra_eW",
        "outputId": "b0a7ee79-2324-47ac-cc6d-893d2708130b"
      },
      "execution_count": null,
      "outputs": [
        {
          "output_type": "execute_result",
          "data": {
            "text/plain": [
              "0.1"
            ]
          },
          "metadata": {},
          "execution_count": 64
        }
      ]
    },
    {
      "cell_type": "code",
      "source": [
        "sum(l3) #addition"
      ],
      "metadata": {
        "colab": {
          "base_uri": "https://localhost:8080/"
        },
        "id": "TqdSyzgEbBU4",
        "outputId": "22a6fa29-ba52-4e05-99a6-93ebb4c04fe4"
      },
      "execution_count": null,
      "outputs": [
        {
          "output_type": "execute_result",
          "data": {
            "text/plain": [
              "262.1"
            ]
          },
          "metadata": {},
          "execution_count": 66
        }
      ]
    },
    {
      "cell_type": "code",
      "source": [
        "l3.sort() #ascending order\n",
        "print(l3)"
      ],
      "metadata": {
        "colab": {
          "base_uri": "https://localhost:8080/"
        },
        "id": "IGQ3ol1LbXap",
        "outputId": "6b495add-9e05-4d07-fcb6-a84e0005ad5d"
      },
      "execution_count": null,
      "outputs": [
        {
          "output_type": "stream",
          "name": "stdout",
          "text": [
            "[0.1, 1, 1, 2, 2, 2, 2, 4, 4, 4, 5, 5, 5, 5, 5, 5, 5, 6, 9, 9, 81, 100]\n"
          ]
        }
      ]
    },
    {
      "cell_type": "markdown",
      "source": [
        "Data Structure\n",
        "+ MUTABLE - LIST[ ] , DICTIONARY{ }  #modification is possible\n",
        "+ IMMUTABLE - TUPLE( ) , SET{ }      #modification is not  possible"
      ],
      "metadata": {
        "id": "0LCM7QBadTAW"
      }
    },
    {
      "cell_type": "markdown",
      "source": [
        "DICTIONARY { }"
      ],
      "metadata": {
        "id": "Wrt764wOeGH9"
      }
    },
    {
      "cell_type": "code",
      "source": [
        "memo={'notebook':90,'chocolate':80,'pens':40,'chips':20} #dictionary= key:value pair\n",
        "print(memo)"
      ],
      "metadata": {
        "colab": {
          "base_uri": "https://localhost:8080/"
        },
        "id": "U6llnp28eLAK",
        "outputId": "73ac3324-b994-48c8-d3e0-cd817c70abf7"
      },
      "execution_count": null,
      "outputs": [
        {
          "output_type": "stream",
          "name": "stdout",
          "text": [
            "{'notebook': 90, 'chocolate': 80, 'pens': 40, 'chips': 20}\n"
          ]
        }
      ]
    },
    {
      "cell_type": "code",
      "source": [
        "type(memo)"
      ],
      "metadata": {
        "colab": {
          "base_uri": "https://localhost:8080/"
        },
        "id": "6reBjhmDfK_F",
        "outputId": "2262514d-ee1e-4d57-9d9f-f2a873cbeb9d"
      },
      "execution_count": null,
      "outputs": [
        {
          "output_type": "execute_result",
          "data": {
            "text/plain": [
              "dict"
            ]
          },
          "metadata": {},
          "execution_count": 105
        }
      ]
    },
    {
      "cell_type": "code",
      "source": [
        "memo['notebook'] #fetching 1 element at a time is possible using 'key'(not by indexing)"
      ],
      "metadata": {
        "colab": {
          "base_uri": "https://localhost:8080/"
        },
        "id": "PniK8VTngFpV",
        "outputId": "ae446ef4-ba63-45ec-f0ee-3aee5f5e953f"
      },
      "execution_count": null,
      "outputs": [
        {
          "output_type": "execute_result",
          "data": {
            "text/plain": [
              "90"
            ]
          },
          "metadata": {},
          "execution_count": 106
        }
      ]
    },
    {
      "cell_type": "code",
      "source": [
        "memo[1]"
      ],
      "metadata": {
        "colab": {
          "base_uri": "https://localhost:8080/",
          "height": 165
        },
        "id": "Qla9E-3Qgnir",
        "outputId": "495e0541-0c1f-4d13-9281-667c3735f014"
      },
      "execution_count": null,
      "outputs": [
        {
          "output_type": "error",
          "ename": "KeyError",
          "evalue": "ignored",
          "traceback": [
            "\u001b[0;31m---------------------------------------------------------------------------\u001b[0m",
            "\u001b[0;31mKeyError\u001b[0m                                  Traceback (most recent call last)",
            "\u001b[0;32m<ipython-input-107-7794bf82a56f>\u001b[0m in \u001b[0;36m<module>\u001b[0;34m\u001b[0m\n\u001b[0;32m----> 1\u001b[0;31m \u001b[0mmemo\u001b[0m\u001b[0;34m[\u001b[0m\u001b[0;36m1\u001b[0m\u001b[0;34m]\u001b[0m\u001b[0;34m\u001b[0m\u001b[0;34m\u001b[0m\u001b[0m\n\u001b[0m",
            "\u001b[0;31mKeyError\u001b[0m: 1"
          ]
        }
      ]
    },
    {
      "cell_type": "code",
      "source": [
        "memo['pens']"
      ],
      "metadata": {
        "colab": {
          "base_uri": "https://localhost:8080/"
        },
        "id": "gms1PLU_gRlh",
        "outputId": "4bf05358-02a4-4d27-fd2c-853c0eec7568"
      },
      "execution_count": null,
      "outputs": [
        {
          "output_type": "execute_result",
          "data": {
            "text/plain": [
              "40"
            ]
          },
          "metadata": {},
          "execution_count": 108
        }
      ]
    },
    {
      "cell_type": "code",
      "source": [
        "memo[1:3] #slicing is not possible in dictionary"
      ],
      "metadata": {
        "colab": {
          "base_uri": "https://localhost:8080/",
          "height": 165
        },
        "id": "vKVqus-ZgX8w",
        "outputId": "c7e02d92-3d42-4d3c-9e63-85ddc03649ae"
      },
      "execution_count": null,
      "outputs": [
        {
          "output_type": "error",
          "ename": "TypeError",
          "evalue": "ignored",
          "traceback": [
            "\u001b[0;31m---------------------------------------------------------------------------\u001b[0m",
            "\u001b[0;31mTypeError\u001b[0m                                 Traceback (most recent call last)",
            "\u001b[0;32m<ipython-input-98-71dba1fc7b1f>\u001b[0m in \u001b[0;36m<module>\u001b[0;34m\u001b[0m\n\u001b[0;32m----> 1\u001b[0;31m \u001b[0mmemo\u001b[0m\u001b[0;34m[\u001b[0m\u001b[0;36m1\u001b[0m\u001b[0;34m:\u001b[0m\u001b[0;36m3\u001b[0m\u001b[0;34m]\u001b[0m \u001b[0;31m#slicing is not possible in dictionary\u001b[0m\u001b[0;34m\u001b[0m\u001b[0;34m\u001b[0m\u001b[0m\n\u001b[0m",
            "\u001b[0;31mTypeError\u001b[0m: unhashable type: 'slice'"
          ]
        }
      ]
    },
    {
      "cell_type": "code",
      "source": [
        "memo['milk']=40 #adding new key:value pair in dict\n",
        "print(memo)"
      ],
      "metadata": {
        "colab": {
          "base_uri": "https://localhost:8080/"
        },
        "id": "cyGVI0flgqwC",
        "outputId": "b95de92d-3620-4fea-afeb-0b2692b53ffa"
      },
      "execution_count": null,
      "outputs": [
        {
          "output_type": "stream",
          "name": "stdout",
          "text": [
            "{'notebook': 90, 'chocolate': 80, 'pens': 40, 'chips': 20, 'milk': 40}\n"
          ]
        }
      ]
    },
    {
      "cell_type": "code",
      "source": [
        "memo['chocolate']=100 #modifying value of key\n",
        "print(memo)"
      ],
      "metadata": {
        "colab": {
          "base_uri": "https://localhost:8080/"
        },
        "id": "OLAiSyM1hcH5",
        "outputId": "1ba1db3b-11cd-4c64-a2d0-65de8dada620"
      },
      "execution_count": null,
      "outputs": [
        {
          "output_type": "stream",
          "name": "stdout",
          "text": [
            "{'notebook': 90, 'chocolate': 100, 'pens': 40, 'chips': 20, 'milk': 40}\n"
          ]
        }
      ]
    },
    {
      "cell_type": "code",
      "source": [
        "del memo['chips'] #deleting pair from dict"
      ],
      "metadata": {
        "id": "sMecyWRqioW9"
      },
      "execution_count": null,
      "outputs": []
    },
    {
      "cell_type": "code",
      "source": [
        "print(memo)"
      ],
      "metadata": {
        "colab": {
          "base_uri": "https://localhost:8080/"
        },
        "id": "5aFWZF7hi0EN",
        "outputId": "8b175067-49d9-47ea-ba0f-d0e3c303d5ef"
      },
      "execution_count": null,
      "outputs": [
        {
          "output_type": "stream",
          "name": "stdout",
          "text": [
            "{'notebook': 90, 'chocolate': 100, 'pens': 40, 'milk': 40}\n"
          ]
        }
      ]
    },
    {
      "cell_type": "code",
      "source": [
        "memo.pop('chocolate')#deleting pair from dict"
      ],
      "metadata": {
        "colab": {
          "base_uri": "https://localhost:8080/"
        },
        "id": "fQ1Ti1rijH5k",
        "outputId": "517de898-f3c2-451c-92c2-4c7a09800852"
      },
      "execution_count": null,
      "outputs": [
        {
          "output_type": "execute_result",
          "data": {
            "text/plain": [
              "100"
            ]
          },
          "metadata": {},
          "execution_count": 113
        }
      ]
    },
    {
      "cell_type": "code",
      "source": [
        "print(memo) "
      ],
      "metadata": {
        "colab": {
          "base_uri": "https://localhost:8080/"
        },
        "id": "nA8l7bmYjU94",
        "outputId": "604646a1-6b71-4a75-c56a-0fc07189da6e"
      },
      "execution_count": null,
      "outputs": [
        {
          "output_type": "stream",
          "name": "stdout",
          "text": [
            "{'notebook': 90, 'pens': 40, 'milk': 40}\n"
          ]
        }
      ]
    },
    {
      "cell_type": "code",
      "source": [
        "#merging two list in dictionary\n",
        "l1=['name','age','salary','occupation',] #key\n",
        "l2=['Bob',29,40000,'Developer'] #value"
      ],
      "metadata": {
        "id": "vskpO9Orjb9y"
      },
      "execution_count": null,
      "outputs": []
    },
    {
      "cell_type": "code",
      "source": [
        "new=dict(zip(l1,l2))\n",
        "print(new)"
      ],
      "metadata": {
        "colab": {
          "base_uri": "https://localhost:8080/"
        },
        "id": "zOYFekc8kTGT",
        "outputId": "ea53d234-bda8-4a0e-b517-df7ede3c9550"
      },
      "execution_count": null,
      "outputs": [
        {
          "output_type": "stream",
          "name": "stdout",
          "text": [
            "{'name': 'Bob', 'age': 29, 'salary': 40000, 'occupation': 'Developer'}\n"
          ]
        }
      ]
    },
    {
      "cell_type": "code",
      "source": [
        "new['city']='new york'\n",
        "print(new)"
      ],
      "metadata": {
        "colab": {
          "base_uri": "https://localhost:8080/"
        },
        "id": "9LSmhQ1Jkn9l",
        "outputId": "1c3d4b8f-2e94-4792-eee4-752dbf11f738"
      },
      "execution_count": null,
      "outputs": [
        {
          "output_type": "stream",
          "name": "stdout",
          "text": [
            "{'name': 'Bob', 'age': 29, 'salary': 40000, 'occupation': 'Developer', 'city': 'new york'}\n"
          ]
        }
      ]
    },
    {
      "cell_type": "markdown",
      "source": [
        "TUPLE ( )"
      ],
      "metadata": {
        "id": "ZyI5oR4Yk-3g"
      }
    },
    {
      "cell_type": "code",
      "source": [
        "t=('india','usa','tushar',1548,0.268)\n",
        "print(t)"
      ],
      "metadata": {
        "colab": {
          "base_uri": "https://localhost:8080/"
        },
        "id": "aQe_2MMSk12V",
        "outputId": "a8253ef4-539d-473f-890a-2515822220c0"
      },
      "execution_count": null,
      "outputs": [
        {
          "output_type": "stream",
          "name": "stdout",
          "text": [
            "('india', 'usa', 'tushar', 1548, 0.268)\n"
          ]
        }
      ]
    },
    {
      "cell_type": "code",
      "source": [
        "type(t)"
      ],
      "metadata": {
        "colab": {
          "base_uri": "https://localhost:8080/"
        },
        "id": "b9BVSLCWlXIb",
        "outputId": "8839e414-b20c-4bce-c114-8a29f412a33d"
      },
      "execution_count": null,
      "outputs": [
        {
          "output_type": "execute_result",
          "data": {
            "text/plain": [
              "tuple"
            ]
          },
          "metadata": {},
          "execution_count": 122
        }
      ]
    },
    {
      "cell_type": "code",
      "source": [
        "t[4] #indexing"
      ],
      "metadata": {
        "colab": {
          "base_uri": "https://localhost:8080/"
        },
        "id": "yAzqaa9NlYx6",
        "outputId": "9a51f0f4-aa68-4e02-cc07-ac0cab87c085"
      },
      "execution_count": null,
      "outputs": [
        {
          "output_type": "execute_result",
          "data": {
            "text/plain": [
              "0.268"
            ]
          },
          "metadata": {},
          "execution_count": 123
        }
      ]
    },
    {
      "cell_type": "code",
      "source": [
        "t[0:4] #slicing "
      ],
      "metadata": {
        "colab": {
          "base_uri": "https://localhost:8080/"
        },
        "id": "vLYoXqSslgc6",
        "outputId": "0a8abd1c-6180-40fc-9066-3f63c4ae9211"
      },
      "execution_count": null,
      "outputs": [
        {
          "output_type": "execute_result",
          "data": {
            "text/plain": [
              "('india', 'usa', 'tushar', 1548)"
            ]
          },
          "metadata": {},
          "execution_count": 124
        }
      ]
    },
    {
      "cell_type": "code",
      "source": [
        "t[1]='china' #can't be modified"
      ],
      "metadata": {
        "colab": {
          "base_uri": "https://localhost:8080/",
          "height": 165
        },
        "id": "1sdOy6nUltrg",
        "outputId": "a1be0554-b213-4d06-f40a-1f19a83d0a91"
      },
      "execution_count": null,
      "outputs": [
        {
          "output_type": "error",
          "ename": "TypeError",
          "evalue": "ignored",
          "traceback": [
            "\u001b[0;31m---------------------------------------------------------------------------\u001b[0m",
            "\u001b[0;31mTypeError\u001b[0m                                 Traceback (most recent call last)",
            "\u001b[0;32m<ipython-input-125-b60e56915974>\u001b[0m in \u001b[0;36m<module>\u001b[0;34m\u001b[0m\n\u001b[0;32m----> 1\u001b[0;31m \u001b[0mt\u001b[0m\u001b[0;34m[\u001b[0m\u001b[0;36m1\u001b[0m\u001b[0;34m]\u001b[0m\u001b[0;34m=\u001b[0m\u001b[0;34m'china'\u001b[0m\u001b[0;34m\u001b[0m\u001b[0;34m\u001b[0m\u001b[0m\n\u001b[0m",
            "\u001b[0;31mTypeError\u001b[0m: 'tuple' object does not support item assignment"
          ]
        }
      ]
    },
    {
      "cell_type": "markdown",
      "source": [
        "SET { }"
      ],
      "metadata": {
        "id": "DMn2TXEgmCxa"
      }
    },
    {
      "cell_type": "code",
      "source": [
        "t={'india','usa','tushar',1548,0.268}"
      ],
      "metadata": {
        "id": "IZgEQOGWmBAR"
      },
      "execution_count": null,
      "outputs": []
    },
    {
      "cell_type": "code",
      "source": [
        "print(t) #random inner shuffling"
      ],
      "metadata": {
        "colab": {
          "base_uri": "https://localhost:8080/"
        },
        "id": "RVqPsCgimnx3",
        "outputId": "00042246-a238-4141-d67f-c0e464c15dee"
      },
      "execution_count": null,
      "outputs": [
        {
          "output_type": "stream",
          "name": "stdout",
          "text": [
            "{'tushar', 0.268, 1548, 'india', 'usa'}\n"
          ]
        }
      ]
    },
    {
      "cell_type": "code",
      "source": [
        "type(t)"
      ],
      "metadata": {
        "colab": {
          "base_uri": "https://localhost:8080/"
        },
        "id": "mpj--i5PmhNx",
        "outputId": "2da63b32-eb9c-4822-a93e-95069ce47427"
      },
      "execution_count": null,
      "outputs": [
        {
          "output_type": "execute_result",
          "data": {
            "text/plain": [
              "set"
            ]
          },
          "metadata": {},
          "execution_count": 128
        }
      ]
    },
    {
      "cell_type": "code",
      "source": [
        "t[1] #indxing not allowed"
      ],
      "metadata": {
        "colab": {
          "base_uri": "https://localhost:8080/",
          "height": 165
        },
        "id": "o_c28Qa8mv66",
        "outputId": "494ad93c-2328-4167-a0b1-ad83f9524936"
      },
      "execution_count": null,
      "outputs": [
        {
          "output_type": "error",
          "ename": "TypeError",
          "evalue": "ignored",
          "traceback": [
            "\u001b[0;31m---------------------------------------------------------------------------\u001b[0m",
            "\u001b[0;31mTypeError\u001b[0m                                 Traceback (most recent call last)",
            "\u001b[0;32m<ipython-input-130-ffcf538a4606>\u001b[0m in \u001b[0;36m<module>\u001b[0;34m\u001b[0m\n\u001b[0;32m----> 1\u001b[0;31m \u001b[0mt\u001b[0m\u001b[0;34m[\u001b[0m\u001b[0;36m1\u001b[0m\u001b[0;34m]\u001b[0m\u001b[0;34m\u001b[0m\u001b[0;34m\u001b[0m\u001b[0m\n\u001b[0m",
            "\u001b[0;31mTypeError\u001b[0m: 'set' object is not subscriptable"
          ]
        }
      ]
    },
    {
      "cell_type": "code",
      "source": [
        "t[1:3] #slicing not allowed"
      ],
      "metadata": {
        "colab": {
          "base_uri": "https://localhost:8080/",
          "height": 165
        },
        "id": "p4AqX_EJm5o5",
        "outputId": "9de536f2-79de-4001-a04b-552935e62f96"
      },
      "execution_count": null,
      "outputs": [
        {
          "output_type": "error",
          "ename": "TypeError",
          "evalue": "ignored",
          "traceback": [
            "\u001b[0;31m---------------------------------------------------------------------------\u001b[0m",
            "\u001b[0;31mTypeError\u001b[0m                                 Traceback (most recent call last)",
            "\u001b[0;32m<ipython-input-131-84418fafa6d9>\u001b[0m in \u001b[0;36m<module>\u001b[0;34m\u001b[0m\n\u001b[0;32m----> 1\u001b[0;31m \u001b[0mt\u001b[0m\u001b[0;34m[\u001b[0m\u001b[0;36m1\u001b[0m\u001b[0;34m:\u001b[0m\u001b[0;36m3\u001b[0m\u001b[0;34m]\u001b[0m\u001b[0;34m\u001b[0m\u001b[0;34m\u001b[0m\u001b[0m\n\u001b[0m",
            "\u001b[0;31mTypeError\u001b[0m: 'set' object is not subscriptable"
          ]
        }
      ]
    },
    {
      "cell_type": "code",
      "source": [
        "d={45,90,'China'}\n",
        "t={'india','usa','tushar',1548,0.268}"
      ],
      "metadata": {
        "id": "AzufpC1vnBE0"
      },
      "execution_count": null,
      "outputs": []
    },
    {
      "cell_type": "code",
      "source": [
        "print(d+t) #two sets can't be added"
      ],
      "metadata": {
        "colab": {
          "base_uri": "https://localhost:8080/",
          "height": 165
        },
        "id": "v73cT6RLnMyX",
        "outputId": "208de558-c8d2-48aa-97fb-722011385739"
      },
      "execution_count": null,
      "outputs": [
        {
          "output_type": "error",
          "ename": "TypeError",
          "evalue": "ignored",
          "traceback": [
            "\u001b[0;31m---------------------------------------------------------------------------\u001b[0m",
            "\u001b[0;31mTypeError\u001b[0m                                 Traceback (most recent call last)",
            "\u001b[0;32m<ipython-input-133-1f168389ffae>\u001b[0m in \u001b[0;36m<module>\u001b[0;34m\u001b[0m\n\u001b[0;32m----> 1\u001b[0;31m \u001b[0mprint\u001b[0m\u001b[0;34m(\u001b[0m\u001b[0md\u001b[0m\u001b[0;34m+\u001b[0m\u001b[0mt\u001b[0m\u001b[0;34m)\u001b[0m\u001b[0;34m\u001b[0m\u001b[0;34m\u001b[0m\u001b[0m\n\u001b[0m",
            "\u001b[0;31mTypeError\u001b[0m: unsupported operand type(s) for +: 'set' and 'set'"
          ]
        }
      ]
    },
    {
      "cell_type": "code",
      "source": [
        "a=list(d) #converted set into list\n",
        "b=list(t) #converted set into list\n",
        "print(a+b)"
      ],
      "metadata": {
        "colab": {
          "base_uri": "https://localhost:8080/"
        },
        "id": "dSybgYfKnaFM",
        "outputId": "a1f09536-e32a-421f-aa01-e0aac9e26dbb"
      },
      "execution_count": null,
      "outputs": [
        {
          "output_type": "stream",
          "name": "stdout",
          "text": [
            "[90, 45, 'China', 'tushar', 0.268, 1548, 'india', 'usa']\n"
          ]
        }
      ]
    }
  ]
}