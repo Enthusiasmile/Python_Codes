{
  "nbformat": 4,
  "nbformat_minor": 0,
  "metadata": {
    "colab": {
      "provenance": [],
      "authorship_tag": "ABX9TyMYbTEhFxB7chPCBmm4C288",
      "include_colab_link": true
    },
    "kernelspec": {
      "name": "python3",
      "display_name": "Python 3"
    },
    "language_info": {
      "name": "python"
    }
  },
  "cells": [
    {
      "cell_type": "markdown",
      "metadata": {
        "id": "view-in-github",
        "colab_type": "text"
      },
      "source": [
        "<a href=\"https://colab.research.google.com/github/Enthusiasmile/Python_Codes/blob/main/Notes2(Conditional_Statement).ipynb\" target=\"_parent\"><img src=\"https://colab.research.google.com/assets/colab-badge.svg\" alt=\"Open In Colab\"/></a>"
      ]
    },
    {
      "cell_type": "markdown",
      "source": [
        "CONDITIONAL STATEMENT"
      ],
      "metadata": {
        "id": "U5bwNf26suhB"
      }
    },
    {
      "cell_type": "markdown",
      "source": [
        "1.Take age as input from the user and check if the candidate is eligible for voting or not (voting age=18years)"
      ],
      "metadata": {
        "id": "F6DtWnvgr3Ej"
      }
    },
    {
      "cell_type": "code",
      "source": [
        "age=float(input('enter age'))\n",
        "if age>=18:\n",
        "  print('eligible')\n",
        "else:\n",
        "  print('not eligible')"
      ],
      "metadata": {
        "colab": {
          "base_uri": "https://localhost:8080/"
        },
        "id": "dhX7p0J-tUZn",
        "outputId": "8703f902-be3a-4989-d063-a08207588958"
      },
      "execution_count": null,
      "outputs": [
        {
          "output_type": "stream",
          "name": "stdout",
          "text": [
            "enter age45\n",
            "eligible\n"
          ]
        }
      ]
    },
    {
      "cell_type": "markdown",
      "source": [
        "2.Take length and breadth of a rectange as input and check if the rectange is a square or not"
      ],
      "metadata": {
        "id": "ddTpUCo40XFY"
      }
    },
    {
      "cell_type": "code",
      "source": [
        "length=float(input('enter the length '))\n",
        "breadth=float(input('enter the breadth '))\n",
        "if length==breadth:\n",
        "  print('square')\n",
        "else:\n",
        "  print('not square')"
      ],
      "metadata": {
        "colab": {
          "base_uri": "https://localhost:8080/"
        },
        "id": "InhJcgzW0s2t",
        "outputId": "c4a54683-b443-4335-a2d9-6ad1ea1ce6b4"
      },
      "execution_count": null,
      "outputs": [
        {
          "output_type": "stream",
          "name": "stdout",
          "text": [
            "enter the length 15\n",
            "enter the breadth 15\n",
            "square\n"
          ]
        }
      ]
    },
    {
      "cell_type": "markdown",
      "source": [
        "3.In a fare, the entry fee is 0 rupees for children less than 4 years of age. Entry fee is 100 rupees if the age is between 4-18 years and if the age is more than 18 years, the entry fee is 175 rupees.\n",
        "\n",
        "Take age as input from the user and display the ticket price"
      ],
      "metadata": {
        "id": "CxAABiB21RkN"
      }
    },
    {
      "cell_type": "code",
      "source": [
        "age=float(input('enter the age '))\n",
        "if age<4:\n",
        "  print('entry fee is 0')\n",
        "elif 18>=age>=4:\n",
        "  print('entry fee is 100')\n",
        "else:\n",
        "  print('entry fee is 175')"
      ],
      "metadata": {
        "colab": {
          "base_uri": "https://localhost:8080/"
        },
        "id": "-B2F8Ys41Sq9",
        "outputId": "457c3dfc-faf2-4db1-ed6d-d044da3ca322"
      },
      "execution_count": null,
      "outputs": [
        {
          "output_type": "stream",
          "name": "stdout",
          "text": [
            "enter the age 1\n",
            "entry fee is 0\n"
          ]
        }
      ]
    },
    {
      "cell_type": "markdown",
      "source": [
        "4.Take a number as input from the user and check if it is perfectly divisible by 2, 3 and 7 or not\n"
      ],
      "metadata": {
        "id": "FkfdA5ur3TnF"
      }
    },
    {
      "cell_type": "code",
      "source": [
        "number=float(input('enter the number'))\n",
        "if number%2==0:\n",
        "  print('perfectly divisible by 2')\n",
        "elif number%3==0:\n",
        "  print('perfectly divisible by 3')\n",
        "elif number%7==0:\n",
        "  print('perfectly divisible by 7')\n",
        "else:\n",
        "  print('not perfetly divisible by 2,3 and 7')"
      ],
      "metadata": {
        "colab": {
          "base_uri": "https://localhost:8080/"
        },
        "id": "IHhkIPGE3UaJ",
        "outputId": "f192e66e-e1ad-4ca4-cb99-4cdf01eaae95"
      },
      "execution_count": null,
      "outputs": [
        {
          "output_type": "stream",
          "name": "stdout",
          "text": [
            "enter the number21\n",
            "perfectly divisible by 3\n"
          ]
        }
      ]
    },
    {
      "cell_type": "markdown",
      "source": [
        "5.Take a number as input from the user and check if the number is even or odd\n"
      ],
      "metadata": {
        "id": "DNIcvWu34ygD"
      }
    },
    {
      "cell_type": "code",
      "source": [
        "num=float(input('enter the number'))\n",
        "if num%2==0:\n",
        "  print('number is even')\n",
        "else:\n",
        "  print('number is odd')"
      ],
      "metadata": {
        "colab": {
          "base_uri": "https://localhost:8080/"
        },
        "id": "K4HtDiBW4zUr",
        "outputId": "f983617d-ec2c-4c39-cb89-fc203de05f1d"
      },
      "execution_count": null,
      "outputs": [
        {
          "output_type": "stream",
          "name": "stdout",
          "text": [
            "enter the number0.01\n",
            "number is odd\n"
          ]
        }
      ]
    },
    {
      "cell_type": "markdown",
      "source": [
        "6.The owner of a company decides to give bonus of 5% to employees who have been working in the company for 5 years or more. \n",
        "\n",
        "Take current salary and years of experience with the current company as input and print the incremented salary (if any)"
      ],
      "metadata": {
        "id": "W02HTBAl5Stz"
      }
    },
    {
      "cell_type": "code",
      "source": [
        "current_salary=float(input('enter the current salary'))\n",
        "experience=float(input('enter the year of experience'))\n",
        "if experience>=5:\n",
        "  print('your incremented salary is',current_salary+current_salary*0.05)\n",
        "else:\n",
        "  print('no increment')"
      ],
      "metadata": {
        "colab": {
          "base_uri": "https://localhost:8080/"
        },
        "id": "eLVwEb2W5T1t",
        "outputId": "f083e172-e87f-4786-fa62-ce82da2c6c7b"
      },
      "execution_count": null,
      "outputs": [
        {
          "output_type": "stream",
          "name": "stdout",
          "text": [
            "enter the current salary10000\n",
            "enter the year of experience5\n",
            "your incremented salary is 10500.0\n"
          ]
        }
      ]
    },
    {
      "cell_type": "markdown",
      "source": [
        "7.A grocery store allows 20% discount on items purchased worth more than 2000 rupees. Considering price of each commodity to be uniform - 200 rupees, calculate the discounted price to be paid at the end\n",
        "\n",
        "Take number of items purchased as input from the user "
      ],
      "metadata": {
        "id": "4ZZxM8OE7O1w"
      }
    },
    {
      "cell_type": "code",
      "source": [
        "items=int(input('enter the number of items purchased'))\n",
        "price=200*items\n",
        "if items>10:\n",
        "  print('discounted price to be paid is',price-0.2*price)\n",
        "else:\n",
        "  print('price to be paid is',price)"
      ],
      "metadata": {
        "colab": {
          "base_uri": "https://localhost:8080/"
        },
        "id": "wlQpkNZQ7oZ_",
        "outputId": "afc3f587-b8ab-4ffb-abaa-e653ea31cd1f"
      },
      "execution_count": null,
      "outputs": [
        {
          "output_type": "stream",
          "name": "stdout",
          "text": [
            "enter the number of items purchased11\n",
            "discounted price to be paid is 1760.0\n"
          ]
        }
      ]
    },
    {
      "cell_type": "markdown",
      "source": [
        "8.Take three numbers 'x', 'y' and 'z' as input from the user and check which number is greater"
      ],
      "metadata": {
        "id": "tt_kt46bL-e9"
      }
    },
    {
      "cell_type": "code",
      "source": [
        "x=float(input('enter the number '))\n",
        "y=float(input('enter the number '))\n",
        "z=float(input('enter the number '))\n",
        "if x>y and x>z:\n",
        "  print(x,'is greater')\n",
        "elif y>x and y>z:\n",
        "  print(y,'is greater')\n",
        "else:\n",
        "  print(z,'is greater')"
      ],
      "metadata": {
        "colab": {
          "base_uri": "https://localhost:8080/"
        },
        "id": "1E1a8XW0MoWl",
        "outputId": "8775d370-4840-4c99-b5a9-f2fdaa1fbadd"
      },
      "execution_count": null,
      "outputs": [
        {
          "output_type": "stream",
          "name": "stdout",
          "text": [
            "enter the number10\n",
            "enter the number15\n",
            "enter the number20\n",
            "20.0 is greater\n"
          ]
        }
      ]
    },
    {
      "cell_type": "markdown",
      "source": [
        "9.Take an alphabet as input from the user and check if the alphabet is a vowel, consonant or an exception\n",
        "\n",
        "Vowel - 'a','e','i','o','u'\n",
        "\n",
        "Exception - 'h', 'y'\n",
        "\n",
        "Consonant - rest other alphabets"
      ],
      "metadata": {
        "id": "CkxQNsxjNton"
      }
    },
    {
      "cell_type": "code",
      "source": [
        "alp=input('enter the alphabet ')\n",
        "if alp in ['a','e','i','o','u']:\n",
        "  print('vowel')\n",
        "elif alp in ['h','y']:\n",
        "  print('exception')\n",
        "else:\n",
        "  print('consonant')"
      ],
      "metadata": {
        "colab": {
          "base_uri": "https://localhost:8080/"
        },
        "id": "BqdFdx6bNvQq",
        "outputId": "8222e6b6-52ab-409e-edb6-1539a501827e"
      },
      "execution_count": null,
      "outputs": [
        {
          "output_type": "stream",
          "name": "stdout",
          "text": [
            "enter the alphabet z\n",
            "consonant\n"
          ]
        }
      ]
    },
    {
      "cell_type": "markdown",
      "source": [
        "Write a program to check whether a number given by a user is divisible by 2 and 3 both"
      ],
      "metadata": {
        "id": "Ks29x27eO4hM"
      }
    },
    {
      "cell_type": "code",
      "source": [
        "numb=float(input('enter the number '))\n",
        "if numb%2==0 and numb%3==0:\n",
        "  print('divisible by 2 & 3')\n",
        "else:\n",
        "  print('not divisible by 2 & 3')"
      ],
      "metadata": {
        "colab": {
          "base_uri": "https://localhost:8080/"
        },
        "id": "xcpylT2wO39H",
        "outputId": "0a8e28c4-40c6-4703-a723-bc2eb263fc0f"
      },
      "execution_count": null,
      "outputs": [
        {
          "output_type": "stream",
          "name": "stdout",
          "text": [
            "enter the number 18\n",
            "divisible by 2 & 3\n"
          ]
        }
      ]
    },
    {
      "cell_type": "markdown",
      "source": [
        "Write a program to accept the cost price of a bike as input and display the road tax to be paid according to the following crieteria :-\n",
        "\n",
        "Cost price - 100000 Tax - 15%\n",
        "\n",
        "Cost price - between 50000 to 100000 Tax - 10%\n",
        "\n",
        "Cost price - less than 50000 Tax - 5%"
      ],
      "metadata": {
        "id": "iL4oUV1vQROj"
      }
    },
    {
      "cell_type": "code",
      "source": [
        "cost=int(input('enter the price of bike '))\n",
        "if cost>100000:\n",
        "  print('road tax to be paid is',cost*0.15)\n",
        "elif 100000>=cost>=50000:\n",
        "  print('road tax to be paid is',cost*0.10)\n",
        "else:\n",
        "  print('road tax to be paid is',cost*0.05)"
      ],
      "metadata": {
        "colab": {
          "base_uri": "https://localhost:8080/"
        },
        "id": "zYr7fzMGQVnA",
        "outputId": "32b6fe59-e33b-4fbf-c9f3-71b3a8ec24b2"
      },
      "execution_count": null,
      "outputs": [
        {
          "output_type": "stream",
          "name": "stdout",
          "text": [
            "enter the price of bike 100000\n",
            "road tax to be paid is 10000.0\n"
          ]
        }
      ]
    },
    {
      "cell_type": "markdown",
      "source": [
        "Write a program to calculate the electricity bill by accepting the number of units consumed by the user as input. Use the following price chart for reference :-\n",
        "\n",
        "Price of first 100 units - no charge\n",
        "\n",
        "Price of next 100 units - Rs 5/- per unit\n",
        "\n",
        "After 200 units - Rs 10/- per unit"
      ],
      "metadata": {
        "id": "PDLbDBYLSoH4"
      }
    },
    {
      "cell_type": "code",
      "source": [
        "units=int(input('enter the unit '))\n",
        "a=(units-100)*5\n",
        "b=a+(units-200)*5   #(here 5+5)\n",
        "if units<=100:\n",
        "  print('no charge')\n",
        "elif 200>units>=100:\n",
        "  print('electricity bill is',a)\n",
        "else:\n",
        "  print('electricity bill is',b)"
      ],
      "metadata": {
        "colab": {
          "base_uri": "https://localhost:8080/"
        },
        "id": "mhOqhxAMU4ZP",
        "outputId": "b80a37a5-9356-43c3-f1ad-e7fd08840e88"
      },
      "execution_count": null,
      "outputs": [
        {
          "output_type": "stream",
          "name": "stdout",
          "text": [
            "enter the unit 225\n",
            "electricity bill is 750\n"
          ]
        }
      ]
    },
    {
      "cell_type": "markdown",
      "source": [
        "NESTED STATEMENT"
      ],
      "metadata": {
        "id": "HZyNm9mxhy6K"
      }
    },
    {
      "cell_type": "markdown",
      "source": [
        "1.Take a number as input from the user and check if the number is greater than 10 or less than 10.\n",
        "\n",
        "In case the number is greater than 10, check if it is greater than 20 also or not"
      ],
      "metadata": {
        "id": "lb0-wbTph6D2"
      }
    },
    {
      "cell_type": "code",
      "source": [
        "num1=int(input('enter the number '))\n",
        "if num1>10:\n",
        "  if num1>20:\n",
        "    print('number is greater than 10 as well as 20')\n",
        "  else:\n",
        "    print('number is greater than 10 but less than 20')\n",
        "\n",
        "else:\n",
        "  print('number is less than 10')"
      ],
      "metadata": {
        "colab": {
          "base_uri": "https://localhost:8080/"
        },
        "id": "6qYDfJsEh-GQ",
        "outputId": "e51c8b58-164c-4e84-dc77-53920d007823"
      },
      "execution_count": null,
      "outputs": [
        {
          "output_type": "stream",
          "name": "stdout",
          "text": [
            "enter the number 22\n",
            "number is greater than 10 as well as 20\n"
          ]
        }
      ]
    },
    {
      "cell_type": "markdown",
      "source": [
        "2.Take a number as input from the user and check if the number is +ve, -ve or 0"
      ],
      "metadata": {
        "id": "RopyDRmXoWl9"
      }
    },
    {
      "cell_type": "code",
      "source": [
        "n=int(input('enter the number '))\n",
        "if n>=0:\n",
        "  if n==0:\n",
        "    print('number is 0')\n",
        "  else:\n",
        "    print('number is +ve')\n",
        "else:\n",
        "  print('number is -ve')"
      ],
      "metadata": {
        "colab": {
          "base_uri": "https://localhost:8080/"
        },
        "id": "kdNgQWbcoZRJ",
        "outputId": "20d76878-faef-416e-e136-e850ebb4d720"
      },
      "execution_count": null,
      "outputs": [
        {
          "output_type": "stream",
          "name": "stdout",
          "text": [
            "enter the number -55\n",
            "number is -ve\n"
          ]
        }
      ]
    }
  ]
}